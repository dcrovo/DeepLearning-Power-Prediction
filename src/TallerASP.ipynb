{
 "cells": [
  {
   "attachments": {},
   "cell_type": "markdown",
   "metadata": {},
   "source": [
    "# Taller ASP - Daniel Crovo - Deep Learning\n",
    "**Objetivos**\n",
    "- Predecir los valores futuros de una serie temporal haciendo uso de técnicas de Deep Learning.\n",
    "- Implementar la optimización de hiperparámetros y cuantificar el efecto a través de métricas de desempeño."
   ]
  },
  {
   "attachments": {},
   "cell_type": "markdown",
   "metadata": {},
   "source": [
    "En el ámbito de la ingenierı́a eléctrica, uno de los principales desafı́os es la planificación y gestión eficiente de la producción de energı́a eléctrica. La potencia activa es una medida de la energı́a eléctrica que se consume o se produce en un sistema eléctrico en un momento dado, y su estimación precisa es esencial para garantizar que la producción de energı́a eléctrica se ajuste a la demanda en tiempo real. Además, la potencia activa es uno de los factores clave que determinan la estabilidad y la calidad de la energı́a eléctrica suministrada a los consumidores. Por lo anterior, la predicción de la potencia activa global que se espera que se consuma o produzca en las próximas 24 horas es un problema crı́tico en la planificación y gestión de la producción de energı́a eléctrica. Una solución precisa y confiable para este problema puede ayudar a mejorar la eficiencia y la estabilidad de la red eléctrica, ası́ como a reducir los costos y las emisiones de gases de efecto invernadero asociados con la producción de energı́a eléctrica."
   ]
  },
  {
   "attachments": {},
   "cell_type": "markdown",
   "metadata": {},
   "source": [
    "1. Omitiendo la primera y última fase de la metodologı́a CRISP-DM (Data Understanding, Data Preparation, Modeling y Evaluation), desarrolle un modelo de DL que, dado el consumo de energı́a de las 24 horas del dı́a anterior, tenga la capacidad de predecir el consumo de las 24 horas del dı́a siguiente. Describa la cadena de procesamiento y justifique, en detalle, cada fase que consolidó la metodologı́a empleada.\n",
    "    \n",
    "- **Data Understanding:** Inicialmente se explorarlos para obtener información sobre la distribución de los datos, la presencia de valores faltantes y cualquier otra característica que pueda afectar el modelado. El dataset consiste en datos de cosumo de energía (Potencia activa) y tiene tres columnas: Fecha, hora y potencia activa. El dataset tiene valores nulos.  \n",
    "\n",
    "- **Preprocesar los datos:** Una vez que se han explorado los datos, es necesario preprocesarlos para prepararlos para el modelado, a continuación se listan los procesos realizados.\n",
    "    - Se realiza el ajuste del dataframe a uno de dos columnas, en la cual se configura el index como el *time step*, esta columna es el resulatado de concatenar la fecha y hora y hacerle un cast para que sea un tipo de dato datetime. Adicionalmente a la columna index, se deja la potencia activa como la única columna.\n",
    "    - Posteriormente se realiza una separación del dataset en train y test, se deja el último año (2010) como conjunto de pruebas.\n",
    "    - Dado que el dataset contiene valores nulos, se remplazan estos por el valor de la media en cada conjunto de datos (entrenamiento y validación)\n",
    "    - Se realiza un *re-sampling* para disminuir el tamaño del dataset, considerando que el objetivo del modelo es predecir las 24 horas del día siguiente dado un día anterior, además reduce el tiempo de entrenamiento. \n",
    "\n",
    "- **Crear el modelo:** En este paso, se crea un modelo de DL que pueda predecir el consumo de energía de las 24 horas del día siguiente, dados los datos de consumo de las 24 horas del día anterior. Un enfoque común para este problema es usar una red neuronal recurrente (RNN), como una red LSTM o GRU. En este caso se consideró sólamente implementar un LSTM, para lo cual se siguo la siguiente metodología:\n",
    "    - Se creó una clase dataset para gestionar el conjunto de datos. en esta clase se realiza una escalización con el módulo MinMaxScaler() para escalizar los valores de potencia a un número entre 0 y 1 con el fin de reducir el tiempo de convergencia.\n",
    "    - se creó un modelo base (BaseLineModel) basado en el módulo nn.LSTM que permite crear n celdas LSTM apiladas automáticamente (A diferencia de nn.LSTMCell)\n",
    "    - Se creó un modelo más (CONV-LSTM-MODEL)sofisiticado utilizando dos capas convolucionales 1d para realizar extracción de características. seguido de un nn.LSTM y se agregan funciones de activación ReLU. \n",
    "\n",
    "- **Entrenar el modelo:** Después de crear el modelo, es necesario entrenarlo utilizando los datos de entrenamiento preprocesados.\n",
    "    - Se entrenaron 2 modelos *BaseLineModel* con el fin de comparar el rendimiento utilizando una secuencia de 1440(sin *re-sampling*) o 24 (con *re-sampling*)\n",
    "    - Se entrena el modelo *CONV-LSTM-MODEL*\n",
    "    - Todos fueron entrenados por 5 épocas.\n",
    "    - La función de pérdida escogida fue MSELOSS\n",
    "    - Se escogieron 2 métricas de evaluación MSE y SMAPE (Ver referencias).\n",
    "\n",
    "- **Evaluar el modelo:** Una vez que se ha entrenado el modelo, es necesario evaluarlo utilizando los datos de prueba preprocesados. \n",
    "    - Se evlauaron los 3 modelos, una vez entrenados se guarda el *state_dict* y se procede a realizar una evaluación con los datos de prueba. Se encontró que el modelo *CONV-LSTM-MODEL* es el que mejor rendimiento tiene. por lo cual se selecciona para realizar una optimización de hiperparametros\n",
    "\n",
    "- **Ajustar el modelo:** Si el modelo no proporciona un rendimiento adecuado en los datos de prueba, se deben realizar ajustes en la arquitectura del modelo o en los hiperparámetros. \n",
    "    - Se plantea una optimización de hiperparámetros inicialmente por medio de gridsearch utilizando la librería optuna. El espacio de búsqueda seleccionado es el siguiente: \n",
    "    ```\n",
    "    \n",
    "        params = {\n",
    "                    'kernel_size': [2, 4, 6],\n",
    "                    'feature_size': [32, 64, 128, 256],\n",
    "                    'hidden_size': [32, 64, 128, 256],\n",
    "                    'n_layers': [2,4,8],\n",
    "                    'lr': [0.001, 0.01],\n",
    "                    'optimizer': [\"Adam\", 'RMSprop']}\n",
    "   \n",
    "    ```\n",
    "    \n",
    "    - Después de esta optimización por grid search, se realizará una optimización de hiperparámetros bayesiana con la librería optuna."
   ]
  },
  {
   "attachments": {},
   "cell_type": "markdown",
   "metadata": {},
   "source": []
  },
  {
   "attachments": {},
   "cell_type": "markdown",
   "metadata": {},
   "source": [
    "## Preprocesamiento de los datos"
   ]
  },
  {
   "cell_type": "code",
   "execution_count": 3,
   "metadata": {},
   "outputs": [
    {
     "data": {
      "text/html": [
       "<div>\n",
       "<style scoped>\n",
       "    .dataframe tbody tr th:only-of-type {\n",
       "        vertical-align: middle;\n",
       "    }\n",
       "\n",
       "    .dataframe tbody tr th {\n",
       "        vertical-align: top;\n",
       "    }\n",
       "\n",
       "    .dataframe thead th {\n",
       "        text-align: right;\n",
       "    }\n",
       "</style>\n",
       "<table border=\"1\" class=\"dataframe\">\n",
       "  <thead>\n",
       "    <tr style=\"text-align: right;\">\n",
       "      <th></th>\n",
       "      <th>Fecha</th>\n",
       "      <th>Hora</th>\n",
       "      <th>Potencia Activa Global (W)</th>\n",
       "    </tr>\n",
       "  </thead>\n",
       "  <tbody>\n",
       "    <tr>\n",
       "      <th>0</th>\n",
       "      <td>16/12/2006</td>\n",
       "      <td>17:24:00</td>\n",
       "      <td>4.216</td>\n",
       "    </tr>\n",
       "    <tr>\n",
       "      <th>1</th>\n",
       "      <td>16/12/2006</td>\n",
       "      <td>17:25:00</td>\n",
       "      <td>5.360</td>\n",
       "    </tr>\n",
       "    <tr>\n",
       "      <th>2</th>\n",
       "      <td>16/12/2006</td>\n",
       "      <td>17:26:00</td>\n",
       "      <td>5.374</td>\n",
       "    </tr>\n",
       "    <tr>\n",
       "      <th>3</th>\n",
       "      <td>16/12/2006</td>\n",
       "      <td>17:27:00</td>\n",
       "      <td>5.388</td>\n",
       "    </tr>\n",
       "    <tr>\n",
       "      <th>4</th>\n",
       "      <td>16/12/2006</td>\n",
       "      <td>17:28:00</td>\n",
       "      <td>3.666</td>\n",
       "    </tr>\n",
       "  </tbody>\n",
       "</table>\n",
       "</div>"
      ],
      "text/plain": [
       "        Fecha      Hora Potencia Activa Global (W)\n",
       "0  16/12/2006  17:24:00                      4.216\n",
       "1  16/12/2006  17:25:00                      5.360\n",
       "2  16/12/2006  17:26:00                      5.374\n",
       "3  16/12/2006  17:27:00                      5.388\n",
       "4  16/12/2006  17:28:00                      3.666"
      ]
     },
     "execution_count": 3,
     "metadata": {},
     "output_type": "execute_result"
    }
   ],
   "source": [
    "import pandas as pd\n",
    "import matplotlib.pyplot as plt\n",
    "import seaborn as sns\n",
    "import torch\n",
    "import torch.nn as nn\n",
    "from torch.utils.data import Dataset\n",
    "from torch.utils.data import DataLoader\n",
    "import torch.optim as optim\n",
    "from sklearn.preprocessing import MinMaxScaler\n",
    "from tqdm.notebook import tqdm\n",
    "import os \n",
    "import numpy as np\n",
    "from sklearn.metrics import mean_squared_error\n",
    "import multiprocessing\n",
    "\n",
    "data = pd.read_csv('../data/data_asp.csv')\n",
    "data.head()"
   ]
  },
  {
   "cell_type": "code",
   "execution_count": 4,
   "metadata": {},
   "outputs": [
    {
     "data": {
      "text/html": [
       "<div>\n",
       "<style scoped>\n",
       "    .dataframe tbody tr th:only-of-type {\n",
       "        vertical-align: middle;\n",
       "    }\n",
       "\n",
       "    .dataframe tbody tr th {\n",
       "        vertical-align: top;\n",
       "    }\n",
       "\n",
       "    .dataframe thead th {\n",
       "        text-align: right;\n",
       "    }\n",
       "</style>\n",
       "<table border=\"1\" class=\"dataframe\">\n",
       "  <thead>\n",
       "    <tr style=\"text-align: right;\">\n",
       "      <th></th>\n",
       "      <th>Power</th>\n",
       "    </tr>\n",
       "    <tr>\n",
       "      <th>Datetime</th>\n",
       "      <th></th>\n",
       "    </tr>\n",
       "  </thead>\n",
       "  <tbody>\n",
       "    <tr>\n",
       "      <th>2006-12-16 17:24:00</th>\n",
       "      <td>4.216</td>\n",
       "    </tr>\n",
       "    <tr>\n",
       "      <th>2006-12-16 17:25:00</th>\n",
       "      <td>5.360</td>\n",
       "    </tr>\n",
       "    <tr>\n",
       "      <th>2006-12-16 17:26:00</th>\n",
       "      <td>5.374</td>\n",
       "    </tr>\n",
       "    <tr>\n",
       "      <th>2006-12-16 17:27:00</th>\n",
       "      <td>5.388</td>\n",
       "    </tr>\n",
       "    <tr>\n",
       "      <th>2006-12-16 17:28:00</th>\n",
       "      <td>3.666</td>\n",
       "    </tr>\n",
       "  </tbody>\n",
       "</table>\n",
       "</div>"
      ],
      "text/plain": [
       "                     Power\n",
       "Datetime                  \n",
       "2006-12-16 17:24:00  4.216\n",
       "2006-12-16 17:25:00  5.360\n",
       "2006-12-16 17:26:00  5.374\n",
       "2006-12-16 17:27:00  5.388\n",
       "2006-12-16 17:28:00  3.666"
      ]
     },
     "execution_count": 4,
     "metadata": {},
     "output_type": "execute_result"
    }
   ],
   "source": [
    "# Renombrar columnas y concatenar Fecha y Hora para utilizarlas como index\n",
    "data.rename(columns={'Potencia Activa Global (W)':'Power'}, inplace=True) \n",
    "data['Power'] = pd.to_numeric(data['Power'], errors='coerce')\n",
    "data['Datetime'] = data['Fecha'] +\" \"+ data['Hora']     \n",
    "data['Datetime'] = pd.to_datetime(data['Datetime'], dayfirst=True)\n",
    "\n",
    "# Se eliminan las columnas pues ya no se requieren\n",
    "data.drop(['Fecha', 'Hora'], axis=1,inplace=True)\n",
    "data.set_index('Datetime', inplace=True)\n",
    "data.head()"
   ]
  },
  {
   "cell_type": "code",
   "execution_count": 5,
   "metadata": {},
   "outputs": [],
   "source": [
    "train = data.loc['2006-12-16 17:24:00':'2010-01-01 00:00:00'].copy()\n",
    "test = data.loc['2010-01-01 00:01:00':].copy()"
   ]
  },
  {
   "cell_type": "code",
   "execution_count": 6,
   "metadata": {},
   "outputs": [
    {
     "data": {
      "text/plain": [
       "(1600237, 1)"
      ]
     },
     "execution_count": 6,
     "metadata": {},
     "output_type": "execute_result"
    }
   ],
   "source": [
    "train.shape"
   ]
  },
  {
   "cell_type": "code",
   "execution_count": 7,
   "metadata": {},
   "outputs": [
    {
     "data": {
      "text/plain": [
       "(475022, 1)"
      ]
     },
     "execution_count": 7,
     "metadata": {},
     "output_type": "execute_result"
    }
   ],
   "source": [
    "test.shape"
   ]
  },
  {
   "cell_type": "code",
   "execution_count": 8,
   "metadata": {},
   "outputs": [
    {
     "data": {
      "text/html": [
       "<div>\n",
       "<style scoped>\n",
       "    .dataframe tbody tr th:only-of-type {\n",
       "        vertical-align: middle;\n",
       "    }\n",
       "\n",
       "    .dataframe tbody tr th {\n",
       "        vertical-align: top;\n",
       "    }\n",
       "\n",
       "    .dataframe thead th {\n",
       "        text-align: right;\n",
       "    }\n",
       "</style>\n",
       "<table border=\"1\" class=\"dataframe\">\n",
       "  <thead>\n",
       "    <tr style=\"text-align: right;\">\n",
       "      <th></th>\n",
       "      <th>Power</th>\n",
       "    </tr>\n",
       "  </thead>\n",
       "  <tbody>\n",
       "    <tr>\n",
       "      <th>count</th>\n",
       "      <td>2.049280e+06</td>\n",
       "    </tr>\n",
       "    <tr>\n",
       "      <th>mean</th>\n",
       "      <td>1.091615e+00</td>\n",
       "    </tr>\n",
       "    <tr>\n",
       "      <th>std</th>\n",
       "      <td>1.057294e+00</td>\n",
       "    </tr>\n",
       "    <tr>\n",
       "      <th>min</th>\n",
       "      <td>7.600000e-02</td>\n",
       "    </tr>\n",
       "    <tr>\n",
       "      <th>25%</th>\n",
       "      <td>3.080000e-01</td>\n",
       "    </tr>\n",
       "    <tr>\n",
       "      <th>50%</th>\n",
       "      <td>6.020000e-01</td>\n",
       "    </tr>\n",
       "    <tr>\n",
       "      <th>75%</th>\n",
       "      <td>1.528000e+00</td>\n",
       "    </tr>\n",
       "    <tr>\n",
       "      <th>max</th>\n",
       "      <td>1.112200e+01</td>\n",
       "    </tr>\n",
       "  </tbody>\n",
       "</table>\n",
       "</div>"
      ],
      "text/plain": [
       "              Power\n",
       "count  2.049280e+06\n",
       "mean   1.091615e+00\n",
       "std    1.057294e+00\n",
       "min    7.600000e-02\n",
       "25%    3.080000e-01\n",
       "50%    6.020000e-01\n",
       "75%    1.528000e+00\n",
       "max    1.112200e+01"
      ]
     },
     "execution_count": 8,
     "metadata": {},
     "output_type": "execute_result"
    }
   ],
   "source": [
    "# Se verifica información básica del dataset\n",
    "data.describe()"
   ]
  },
  {
   "cell_type": "code",
   "execution_count": 9,
   "metadata": {},
   "outputs": [
    {
     "data": {
      "text/plain": [
       "25979"
      ]
     },
     "execution_count": 9,
     "metadata": {},
     "output_type": "execute_result"
    }
   ],
   "source": [
    "# Las siguientes lineas de código se utilizarn para verificar cómo están distribuidos los datos núlos\n",
    "\n",
    "# grouped = data.groupby(by=data.index.month)\n",
    "# nan = data[pd.isna(data['Power'])]\n",
    "# nan = nan.fillna(1)\n",
    "# nan_values = nan.groupby(by=[nan.index.month,nan.index.day,nan.index.year]).count()\n",
    "\n",
    "data[pd.isna(data['Power'])].size"
   ]
  },
  {
   "attachments": {},
   "cell_type": "markdown",
   "metadata": {},
   "source": [
    "Existen 25979 datos nulos, los cuales se van a reemplazar por el valor de la media."
   ]
  },
  {
   "cell_type": "code",
   "execution_count": 10,
   "metadata": {},
   "outputs": [],
   "source": [
    "#data.fillna(data['Power'].mean(), inplace=True)\n",
    "train.fillna(train['Power'].mean(), inplace=True)\n",
    "test.fillna(test['Power'].mean(), inplace=True)"
   ]
  },
  {
   "cell_type": "code",
   "execution_count": 11,
   "metadata": {},
   "outputs": [
    {
     "data": {
      "text/plain": [
       "25979"
      ]
     },
     "execution_count": 11,
     "metadata": {},
     "output_type": "execute_result"
    }
   ],
   "source": [
    "# Se verifica que no queden valores nulos\n",
    "data[pd.isna(data['Power'])].size"
   ]
  },
  {
   "cell_type": "code",
   "execution_count": 12,
   "metadata": {},
   "outputs": [
    {
     "data": {
      "text/plain": [
       "[<matplotlib.lines.Line2D at 0x7fdc82987700>]"
      ]
     },
     "execution_count": 12,
     "metadata": {},
     "output_type": "execute_result"
    },
    {
     "data": {
      "image/png": "[encoded data removed]",
      "text/plain": [
       "<Figure size 1600x600 with 1 Axes>"
      ]
     },
     "metadata": {},
     "output_type": "display_data"
    }
   ],
   "source": [
    "plt.figure(figsize=(16,6))\n",
    "plt.plot(data)"
   ]
  },
  {
   "attachments": {},
   "cell_type": "markdown",
   "metadata": {},
   "source": [
    "Considerando que el problema consiste en predecir las siguientes 24 horas de consumo, dadas las 24 horas previas, hace sentido hacer un re-muestreo del dataset. "
   ]
  },
  {
   "cell_type": "code",
   "execution_count": 13,
   "metadata": {},
   "outputs": [],
   "source": [
    "#data_hour = data.resample('H').mean()\n",
    "train_hour = train.resample('H').mean()\n",
    "test_hour = test.resample('H').mean()\n"
   ]
  },
  {
   "cell_type": "code",
   "execution_count": 14,
   "metadata": {},
   "outputs": [
    {
     "data": {
      "text/plain": [
       "<Axes: xlabel='Datetime'>"
      ]
     },
     "execution_count": 14,
     "metadata": {},
     "output_type": "execute_result"
    },
    {
     "data": {
      "image/png": "[encoded data removed]",
      "text/plain": [
       "<Figure size 1600x600 with 1 Axes>"
      ]
     },
     "metadata": {},
     "output_type": "display_data"
    }
   ],
   "source": [
    "plt.figure(figsize=(16,6))\n",
    "sns.lineplot(test_hour)"
   ]
  },
  {
   "cell_type": "code",
   "execution_count": 14,
   "metadata": {},
   "outputs": [],
   "source": [
    "#input_seq = torch.tensor(scaler.transform(data.iloc[index:index+seq_length]['Power'].values.reshape(-1,1)))\n",
    "#input_seq = torch.tensor(scaler.transform(input_seq))"
   ]
  },
  {
   "cell_type": "code",
   "execution_count": 15,
   "metadata": {},
   "outputs": [],
   "source": [
    "# Clase para manejar el dataset\n",
    "class PowerData(Dataset): \n",
    "    def __init__(self, data_df, seq_length):\n",
    "        self.data = data_df\n",
    "        self.seq_length = seq_length\n",
    "        self.scaler = MinMaxScaler()\n",
    "        self.scaler.fit(self.data[['Power']].values)\n",
    "\n",
    "    def __getitem__(self, index):\n",
    "        \n",
    "        # Se retorna la secuencia del día inicial\n",
    "        input_seq = torch.tensor(self.scaler.transform(self.data.iloc[index:index+self.seq_length]['Power'].values.reshape(-1,1)))\n",
    "        # Se retorna la secuencia del día siguiente\n",
    "        target = torch.tensor(self.scaler.transform(self.data.iloc[index+self.seq_length:index+(self.seq_length*2)]['Power'].values.reshape(-1,1)))\n",
    "        return input_seq, target \n",
    "    def __len__(self): \n",
    "        return(len(self.data) - self.seq_length*2)\n",
    "    # Función para retornar los datos en su escala original\n",
    "    def inverse_transform(self, data): \n",
    "        return(self.scaler.inverse_transform(data))\n",
    "            "
   ]
  },
  {
   "cell_type": "code",
   "execution_count": 16,
   "metadata": {},
   "outputs": [],
   "source": [
    "#Modelo Base\n",
    "class BaselineModel(nn.Module):\n",
    "    def __init__(self, input_size, hidden_size, seq_lenght, n_layers):\n",
    "        super(BaselineModel, self).__init__()\n",
    "        #Modulo LSTM de n_layer celdas\n",
    "        self.lstm = nn.LSTM(input_size, hidden_size, n_layers, batch_first=True)\n",
    "        self.linear = nn.Linear(hidden_size, seq_lenght)\n",
    "    def forward(self, x):\n",
    "        x, (h_n, c_n) = self.lstm(x)\n",
    "        # se debe aplicar la capa lineal a la última secuencia \n",
    "        x = self.linear(x[:,-1,:]).unsqueeze(-1)\n",
    "\n",
    "        return x"
   ]
  },
  {
   "cell_type": "code",
   "execution_count": 17,
   "metadata": {},
   "outputs": [],
   "source": [
    "def train_model(model, device, train_loader, optimizer, criterion, epoch):\n",
    "    p_bar = tqdm(train_loader)\n",
    "    model.train()\n",
    "\n",
    "    for batch_idx, (data, target) in enumerate(p_bar):\n",
    "\n",
    "        data, target = data.to(device), target.to(device)\n",
    "        with torch.cuda.amp.autocast():\n",
    "            output = model(data)\n",
    "            loss = criterion(output, target)\n",
    "\n",
    "        optimizer.zero_grad()\n",
    "\n",
    "        loss.backward()\n",
    "        optimizer.step()\n",
    "\n",
    "        p_bar.set_postfix(loss= loss.item())"
   ]
  },
  {
   "cell_type": "code",
   "execution_count": 18,
   "metadata": {},
   "outputs": [],
   "source": [
    "\n",
    "def performance(model, device, val_loader, test_data):\n",
    "    model.eval()\n",
    "\n",
    "    with torch.no_grad():\n",
    "        for x, y in val_loader:\n",
    "            prev_day, next_day= x.to(device), y.to(device)\n",
    "            pred = model(prev_day)\n",
    "\n",
    "            preds = np.concatenate(pred.cpu().detach().numpy())\n",
    "            targets = np.concatenate(next_day.cpu().detach().numpy())\n",
    "\n",
    "    \n",
    " \n",
    "    smape = (100/len(targets))*np.sum((np.abs(preds-targets))/((np.abs(targets+preds))/2))\n",
    "    print('Simetric mean absolute percentage error: ', smape)\n",
    "    preds = test_data.inverse_transform(preds.reshape(-1,1))\n",
    "    targets = test_data.inverse_transform(targets.reshape(-1,1))\n",
    "    mse = mean_squared_error(preds, targets)\n",
    "    print('Mean Squared Error: ', mse)\n",
    "    return preds, targets, mse"
   ]
  },
  {
   "cell_type": "code",
   "execution_count": 18,
   "metadata": {},
   "outputs": [
    {
     "name": "stdout",
     "output_type": "stream",
     "text": [
      "Training on cuda\n"
     ]
    },
    {
     "data": {
      "application/vnd.jupyter.widget-view+json": {
       "model_id": "23027fead201471db2eadb48a3cffab1",
       "version_major": 2,
       "version_minor": 0
      },
      "text/plain": [
       "  0%|          | 0/832 [00:00<?, ?it/s]"
      ]
     },
     "metadata": {},
     "output_type": "display_data"
    },
    {
     "name": "stdout",
     "output_type": "stream",
     "text": [
      "____________________________\n",
      "Validation metrics in training epoch  1 :\n",
      "Simetric mean absolute percentage error:  70.83012892145157\n",
      "Mean Squared Error:  1.1963075646654417\n"
     ]
    },
    {
     "data": {
      "application/vnd.jupyter.widget-view+json": {
       "model_id": "02fa61427ae447468ff7e06cf6703592",
       "version_major": 2,
       "version_minor": 0
      },
      "text/plain": [
       "  0%|          | 0/832 [00:00<?, ?it/s]"
      ]
     },
     "metadata": {},
     "output_type": "display_data"
    },
    {
     "name": "stdout",
     "output_type": "stream",
     "text": [
      "____________________________\n",
      "Validation metrics in training epoch  2 :\n",
      "Simetric mean absolute percentage error:  69.90691420961589\n",
      "Mean Squared Error:  1.1640978693483672\n"
     ]
    },
    {
     "data": {
      "application/vnd.jupyter.widget-view+json": {
       "model_id": "5ee3de0d97e9453399111c99e3c3a70b",
       "version_major": 2,
       "version_minor": 0
      },
      "text/plain": [
       "  0%|          | 0/832 [00:00<?, ?it/s]"
      ]
     },
     "metadata": {},
     "output_type": "display_data"
    },
    {
     "name": "stdout",
     "output_type": "stream",
     "text": [
      "____________________________\n",
      "Validation metrics in training epoch  3 :\n",
      "Simetric mean absolute percentage error:  58.628519576475924\n",
      "Mean Squared Error:  0.9331951916820462\n"
     ]
    },
    {
     "data": {
      "application/vnd.jupyter.widget-view+json": {
       "model_id": "61a26a4edb3142299f3e5a589a32c7e4",
       "version_major": 2,
       "version_minor": 0
      },
      "text/plain": [
       "  0%|          | 0/832 [00:00<?, ?it/s]"
      ]
     },
     "metadata": {},
     "output_type": "display_data"
    },
    {
     "name": "stdout",
     "output_type": "stream",
     "text": [
      "____________________________\n",
      "Validation metrics in training epoch  4 :\n",
      "Simetric mean absolute percentage error:  57.76546784488653\n",
      "Mean Squared Error:  0.8989365959008228\n"
     ]
    },
    {
     "data": {
      "application/vnd.jupyter.widget-view+json": {
       "model_id": "dc09afdefaae40f88a9f5436ebda5968",
       "version_major": 2,
       "version_minor": 0
      },
      "text/plain": [
       "  0%|          | 0/832 [00:00<?, ?it/s]"
      ]
     },
     "metadata": {},
     "output_type": "display_data"
    },
    {
     "name": "stdout",
     "output_type": "stream",
     "text": [
      "____________________________\n",
      "Validation metrics in training epoch  5 :\n",
      "Simetric mean absolute percentage error:  55.63718530041381\n",
      "Mean Squared Error:  0.8545962717131937\n",
      "____________________________\n",
      "Validation metrics in test set:\n",
      "Simetric mean absolute percentage error:  69.14646096403965\n",
      "Mean Squared Error:  0.27568597160793057\n"
     ]
    }
   ],
   "source": [
    "# Hyperparámetros\n",
    "batch_size = 32\n",
    "epochs = 5\n",
    "lr  = 0.001\n",
    "input_size =1\n",
    "seq_lenght = 24\n",
    "hidden_size = 64\n",
    "n_layers = 2\n",
    "NUM_WORKERS = multiprocessing.cpu_count()\n",
    "\n",
    "device = torch.device('cuda' if torch.cuda.is_available() else 'cpu')\n",
    "print(f'Training on {device}')\n",
    "\n",
    "train_data = PowerData(train_hour, seq_lenght)\n",
    "test_data = PowerData(test_hour, seq_lenght)\n",
    "\n",
    "train_loader = DataLoader(train_data, batch_size=batch_size, num_workers=NUM_WORKERS)\n",
    "test_loader = DataLoader(test_data, batch_size=batch_size, num_workers=NUM_WORKERS)\n",
    "\n",
    "model = BaselineModel(input_size, hidden_size, seq_lenght, n_layers).to(device)\n",
    "model.double()\n",
    "optimizer = optim.Adam(model.parameters(), lr=lr)\n",
    "criterion = nn.MSELoss()\n",
    "\n",
    "for epoch in range(1, epochs+1):\n",
    "    train_model(model, device, train_loader, optimizer, criterion, epoch)\n",
    "    print('____________________________\\nValidation metrics in training epoch ', epoch,':')\n",
    "    performance(model, device, train_loader, train_data)\n",
    "\n",
    "print('____________________________\\nValidation metrics in test set:')\n",
    "performance(model, device, test_loader, test_data)\n",
    "\n",
    "torch.save(model.state_dict(), '../models/model_24hours')\n"
   ]
  },
  {
   "cell_type": "code",
   "execution_count": 19,
   "metadata": {},
   "outputs": [
    {
     "name": "stdout",
     "output_type": "stream",
     "text": [
      "Training on cuda\n"
     ]
    },
    {
     "data": {
      "application/vnd.jupyter.widget-view+json": {
       "model_id": "877153235c804224b2ea06714d4f22a4",
       "version_major": 2,
       "version_minor": 0
      },
      "text/plain": [
       "  0%|          | 0/49918 [00:00<?, ?it/s]"
      ]
     },
     "metadata": {},
     "output_type": "display_data"
    },
    {
     "ename": "KeyboardInterrupt",
     "evalue": "",
     "output_type": "error",
     "traceback": [
      "\u001b[0;31m---------------------------------------------------------------------------\u001b[0m",
      "\u001b[0;31mKeyboardInterrupt\u001b[0m                         Traceback (most recent call last)",
      "Cell \u001b[0;32mIn[19], line 24\u001b[0m\n\u001b[1;32m     21\u001b[0m criterion_h \u001b[39m=\u001b[39m nn\u001b[39m.\u001b[39mMSELoss()\n\u001b[1;32m     23\u001b[0m \u001b[39mfor\u001b[39;00m epoch \u001b[39min\u001b[39;00m \u001b[39mrange\u001b[39m(\u001b[39m1\u001b[39m, epochs\u001b[39m+\u001b[39m\u001b[39m1\u001b[39m):\n\u001b[0;32m---> 24\u001b[0m     train_model(model_hour, device, train_loader_h, optimizer_h, criterion_h, epoch)\n\u001b[1;32m     25\u001b[0m     \u001b[39mprint\u001b[39m(\u001b[39m'\u001b[39m\u001b[39m____________________________\u001b[39m\u001b[39m\\n\u001b[39;00m\u001b[39mValidation metrics in training epoch \u001b[39m\u001b[39m'\u001b[39m, epoch,\u001b[39m'\u001b[39m\u001b[39m:\u001b[39m\u001b[39m'\u001b[39m)\n\u001b[1;32m     26\u001b[0m     performance(model_hour, device, train_loader_h, train_data_h)\n",
      "Cell \u001b[0;32mIn[16], line 15\u001b[0m, in \u001b[0;36mtrain_model\u001b[0;34m(model, device, train_loader, optimizer, criterion, epoch)\u001b[0m\n\u001b[1;32m     12\u001b[0m loss\u001b[39m.\u001b[39mbackward()\n\u001b[1;32m     13\u001b[0m optimizer\u001b[39m.\u001b[39mstep()\n\u001b[0;32m---> 15\u001b[0m p_bar\u001b[39m.\u001b[39mset_postfix(loss\u001b[39m=\u001b[39m loss\u001b[39m.\u001b[39;49mitem())\n",
      "\u001b[0;31mKeyboardInterrupt\u001b[0m: "
     ]
    }
   ],
   "source": [
    "batch_size = 32\n",
    "epochs = 2\n",
    "lr  = 0.001\n",
    "input_size =1\n",
    "seq_lenght = 1440\n",
    "hidden_size = 64\n",
    "n_layers = 1\n",
    "\n",
    "device = torch.device('cuda' if torch.cuda.is_available() else 'cpu')\n",
    "print(f'Training on {device}')\n",
    "\n",
    "train_data_h = PowerData(train, seq_lenght)\n",
    "test_data_h = PowerData(test, seq_lenght)\n",
    "\n",
    "train_loader_h = DataLoader(train_data_h, batch_size=batch_size, num_workers=NUM_WORKERS)\n",
    "test_loader_h = DataLoader(test_data_h, batch_size=batch_size, num_workers=NUM_WORKERS)\n",
    "\n",
    "model_hour = BaselineModel(input_size, hidden_size, seq_lenght, n_layers).to(device)\n",
    "model_hour.double()\n",
    "optimizer_h = optim.Adam(model_hour.parameters(), lr=lr)\n",
    "criterion_h = nn.MSELoss()\n",
    "\n",
    "for epoch in range(1, epochs+1):\n",
    "    train_model(model_hour, device, train_loader_h, optimizer_h, criterion_h, epoch)\n",
    "    print('____________________________\\nValidation metrics in training epoch ', epoch,':')\n",
    "    performance(model_hour, device, train_loader_h, train_data_h)\n",
    "\n",
    "\n",
    "print('____________________________\\nValidation metrics in test set:')\n",
    "performance(model_hour, device, test_loader_h, test_data)\n",
    "\n",
    "torch.save(model_hour.state_dict(), '../models/model_by_hours')\n",
    "\n"
   ]
  },
  {
   "attachments": {},
   "cell_type": "markdown",
   "metadata": {},
   "source": [
    "## Evaluación de los dos modelos base"
   ]
  },
  {
   "cell_type": "code",
   "execution_count": 53,
   "metadata": {},
   "outputs": [
    {
     "name": "stdout",
     "output_type": "stream",
     "text": [
      " Simetric mean absolite percentage error:  49.952956468720465\n",
      " Simetric mean absolite percentage error:  92.05622365027949\n",
      "el RMSE para el modelo que trabaja con una secuencia de 24 y fue remuestreado es: 0.22176545441372247\n",
      "el RMSE para el modelo que trabaja con una secuencia de 1440: 0.8926358807504763\n"
     ]
    }
   ],
   "source": [
    "model_baseline24 = BaselineModel(24, hidden_size, 24, 1).to(device)\n",
    "model_baseline24.load_state_dict(torch.load('../models/model_24hours'))\n",
    "model_baseline24.eval()\n",
    "model_baseline24.double()\n",
    "model_baseline_h = BaselineModel(1440, hidden_size, 1440, 1).to(device)\n",
    "model_baseline_h.load_state_dict(torch.load('../models/model_by_hours'))\n",
    "model_baseline_h.eval()\n",
    "model_baseline_h.double()\n",
    "\n",
    "\n",
    "#train_data_24 = PowerData(train_hour, input_size)\n",
    "test_data_24 = PowerData(test_hour, 24)\n",
    "test_data_h = PowerData(test, 1440)\n",
    "\n",
    "#train_loader_24 = DataLoader(train_data_24, batch_size=batch_size)\n",
    "test_loader_24 = DataLoader(test_data_24, batch_size=batch_size)\n",
    "test_loader_h = DataLoader(test_data_h, batch_size=batch_size)\n",
    "\n",
    "y_pred_24, y_true_24  = performance(model_baseline24, device, test_loader_24,test_data_24)\n",
    "y_pred_h, y_true_h = performance(model_baseline_h, device, test_loader_h,test_data_h)\n",
    "\n",
    "\n",
    "print(f'el RMSE para el modelo que trabaja con una secuencia de 24 y fue remuestreado es: {mean_squared_error(y_true_24, y_pred_24)}')\n",
    "print(f'el RMSE para el modelo que trabaja con una secuencia de 1440: {mean_squared_error(y_true_h, y_pred_h)}')"
   ]
  },
  {
   "attachments": {},
   "cell_type": "markdown",
   "metadata": {},
   "source": [
    "## Modelo con extracción de características por Convolución"
   ]
  },
  {
   "cell_type": "code",
   "execution_count": 19,
   "metadata": {},
   "outputs": [],
   "source": [
    "class CONV_LSTM_Model(nn.Module):\n",
    "    def __init__(self, input_size=1, kernel_size=3, feature_size=32, hidden_size=64, seq_lenght=24, n_layers=2, padding=1):\n",
    "        super(CONV_LSTM_Model, self).__init__()\n",
    "        self.conv1d_1 = nn.Conv1d(in_channels=input_size, out_channels=feature_size, kernel_size=kernel_size, padding=padding)\n",
    "        self.conv1d_2 = nn.Conv1d(in_channels=feature_size, out_channels=feature_size, kernel_size=kernel_size, padding=padding)\n",
    "        self.relu = nn.ReLU()\n",
    "        self.lstm = nn.LSTM(input_size*feature_size, hidden_size, n_layers, batch_first=True)\n",
    "        self.linear = nn.Linear(hidden_size, seq_lenght)\n",
    "    def forward(self, x):\n",
    "        x = x.permute(0,2,1)\n",
    "\n",
    "        x = self.conv1d_1(x)\n",
    "        x = self.relu(x)\n",
    "        x = self.conv1d_2(x)\n",
    "        x = self.relu(x)\n",
    "        x = x.permute(0\n",
    "                      ,2,1)\n",
    "        x, h = self.lstm(x)\n",
    "        x = self.linear(x[:,-1,:]).unsqueeze(-1)\n",
    "        x = self.relu(x)\n",
    "\n",
    "        return x"
   ]
  },
  {
   "cell_type": "code",
   "execution_count": 21,
   "metadata": {},
   "outputs": [
    {
     "name": "stdout",
     "output_type": "stream",
     "text": [
      "Training on cuda\n"
     ]
    },
    {
     "data": {
      "application/vnd.jupyter.widget-view+json": {
       "model_id": "391e5ee318734684a5746e74f0b225d0",
       "version_major": 2,
       "version_minor": 0
      },
      "text/plain": [
       "  0%|          | 0/832 [00:00<?, ?it/s]"
      ]
     },
     "metadata": {},
     "output_type": "display_data"
    },
    {
     "name": "stdout",
     "output_type": "stream",
     "text": [
      "Simetric mean absolute percentage error:  80.33913907208179\n",
      "Mean Squared Error:  1.2905434157222497\n"
     ]
    },
    {
     "data": {
      "application/vnd.jupyter.widget-view+json": {
       "model_id": "47db684f9b0e4eb79921949d7d93ab1f",
       "version_major": 2,
       "version_minor": 0
      },
      "text/plain": [
       "  0%|          | 0/832 [00:00<?, ?it/s]"
      ]
     },
     "metadata": {},
     "output_type": "display_data"
    },
    {
     "name": "stdout",
     "output_type": "stream",
     "text": [
      "Simetric mean absolute percentage error:  60.978992506619846\n",
      "Mean Squared Error:  0.9270298114555443\n"
     ]
    },
    {
     "data": {
      "application/vnd.jupyter.widget-view+json": {
       "model_id": "5a596d5ca43e4661817d152a08c650dc",
       "version_major": 2,
       "version_minor": 0
      },
      "text/plain": [
       "  0%|          | 0/832 [00:00<?, ?it/s]"
      ]
     },
     "metadata": {},
     "output_type": "display_data"
    },
    {
     "name": "stdout",
     "output_type": "stream",
     "text": [
      "Simetric mean absolute percentage error:  53.087492973774154\n",
      "Mean Squared Error:  0.7671527968380193\n"
     ]
    },
    {
     "data": {
      "application/vnd.jupyter.widget-view+json": {
       "model_id": "0b436029417449baa5e85f42d514a80f",
       "version_major": 2,
       "version_minor": 0
      },
      "text/plain": [
       "  0%|          | 0/832 [00:00<?, ?it/s]"
      ]
     },
     "metadata": {},
     "output_type": "display_data"
    },
    {
     "name": "stdout",
     "output_type": "stream",
     "text": [
      "Simetric mean absolute percentage error:  52.95363446938451\n",
      "Mean Squared Error:  0.7606238378101824\n"
     ]
    },
    {
     "data": {
      "application/vnd.jupyter.widget-view+json": {
       "model_id": "ccb6133be3424b44b1737e2a1e66b282",
       "version_major": 2,
       "version_minor": 0
      },
      "text/plain": [
       "  0%|          | 0/832 [00:00<?, ?it/s]"
      ]
     },
     "metadata": {},
     "output_type": "display_data"
    },
    {
     "name": "stdout",
     "output_type": "stream",
     "text": [
      "Simetric mean absolute percentage error:  53.27692957110997\n",
      "Mean Squared Error:  0.7623179823245684\n",
      "Simetric mean absolute percentage error:  66.51576631252136\n",
      "Mean Squared Error:  0.25462780683900493\n"
     ]
    }
   ],
   "source": [
    "# Hyperparámetros\n",
    "batch_size = 32\n",
    "epochs = 5\n",
    "lr  = 0.001\n",
    "input_size =1\n",
    "seq_lenght = 24\n",
    "kernel_size = 3\n",
    "feature_size = 64\n",
    "padding = 1\n",
    "hidden_size = 64\n",
    "n_layers = 2\n",
    "NUM_WORKERS = multiprocessing.cpu_count()\n",
    "\n",
    "\n",
    "device = torch.device('cuda' if torch.cuda.is_available() else 'cpu')\n",
    "print(f'Training on {device}')\n",
    "\n",
    "train_data = PowerData(train_hour, seq_lenght)\n",
    "test_data = PowerData(test_hour, seq_lenght)\n",
    "\n",
    "train_loader = DataLoader(train_data, batch_size=batch_size)\n",
    "test_loader = DataLoader(test_data, batch_size=batch_size)\n",
    "\n",
    "conv_lstm_model = CONV_LSTM_Model(input_size, kernel_size, feature_size, hidden_size, seq_lenght, n_layers, padding).to(device)\n",
    "conv_lstm_model.double()\n",
    "optimizer = optim.Adam(conv_lstm_model.parameters(), lr=lr)\n",
    "criterion = nn.MSELoss()\n",
    "\n",
    "for epoch in range(1, epochs+1):\n",
    "    train_model(conv_lstm_model, device, train_loader, optimizer, criterion, epoch)\n",
    "    performance(conv_lstm_model, device, train_loader, train_data)\n",
    "\n",
    "torch.save(model.state_dict(), '../models/model_conv_lstm')\n",
    "\n",
    "preds, truth = performance(conv_lstm_model, device, test_loader, test_data)\n"
   ]
  },
  {
   "attachments": {},
   "cell_type": "markdown",
   "metadata": {},
   "source": [
    "## Optimización de hiperparámetros\n",
    "Considerando que el modelo con las capas convolucionales para extracción de características presenta un mejor desempeño en el entrenamiento así como evaluado en el conjunto de pruebas, se procede a realizar la optimización de hiperparámetros para este. "
   ]
  },
  {
   "cell_type": "code",
   "execution_count": 20,
   "metadata": {},
   "outputs": [
    {
     "name": "stderr",
     "output_type": "stream",
     "text": [
      "\u001b[32m[I 2023-05-15 16:09:53,064]\u001b[0m A new study created in memory with name: no-name-8bd944d9-646c-4c0f-990c-bf10f727e912\u001b[0m\n"
     ]
    },
    {
     "name": "stdout",
     "output_type": "stream",
     "text": [
      "Training on cuda\n"
     ]
    },
    {
     "data": {
      "application/vnd.jupyter.widget-view+json": {
       "model_id": "c260da391b89460e920d070633d53a09",
       "version_major": 2,
       "version_minor": 0
      },
      "text/plain": [
       "  0%|          | 0/832 [00:00<?, ?it/s]"
      ]
     },
     "metadata": {},
     "output_type": "display_data"
    },
    {
     "name": "stdout",
     "output_type": "stream",
     "text": [
      "Simetric mean absolute percentage error:  88.06649516258739\n",
      "Mean Squared Error:  0.6494745906595718\n"
     ]
    },
    {
     "data": {
      "application/vnd.jupyter.widget-view+json": {
       "model_id": "01836f55495344b7bd318aa2575e16ac",
       "version_major": 2,
       "version_minor": 0
      },
      "text/plain": [
       "  0%|          | 0/832 [00:00<?, ?it/s]"
      ]
     },
     "metadata": {},
     "output_type": "display_data"
    },
    {
     "name": "stdout",
     "output_type": "stream",
     "text": [
      "Simetric mean absolute percentage error:  83.37467746901933\n",
      "Mean Squared Error:  0.6118592028472312\n"
     ]
    },
    {
     "data": {
      "application/vnd.jupyter.widget-view+json": {
       "model_id": "1c673f32ace24d91a96a323fad6cb92b",
       "version_major": 2,
       "version_minor": 0
      },
      "text/plain": [
       "  0%|          | 0/832 [00:00<?, ?it/s]"
      ]
     },
     "metadata": {},
     "output_type": "display_data"
    },
    {
     "name": "stdout",
     "output_type": "stream",
     "text": [
      "Simetric mean absolute percentage error:  83.38071036882812\n",
      "Mean Squared Error:  0.6123586014333229\n"
     ]
    },
    {
     "name": "stderr",
     "output_type": "stream",
     "text": [
      "\u001b[32m[I 2023-05-15 16:10:43,118]\u001b[0m Trial 0 finished with value: 0.6123586014333229 and parameters: {'optimizer': 'RMSprop', 'lr': 0.01, 'kernel_size': 2, 'feature_size': 32, 'hidden_size': 64, 'n_layers': 4}. Best is trial 0 with value: 0.6123586014333229.\u001b[0m\n"
     ]
    },
    {
     "name": "stdout",
     "output_type": "stream",
     "text": [
      "Simetric mean absolute percentage error:  83.38071036882812\n",
      "Mean Squared Error:  0.6123586014333229\n"
     ]
    },
    {
     "data": {
      "application/vnd.jupyter.widget-view+json": {
       "model_id": "543420827e554a31a9f1f39cc7d4f269",
       "version_major": 2,
       "version_minor": 0
      },
      "text/plain": [
       "  0%|          | 0/832 [00:00<?, ?it/s]"
      ]
     },
     "metadata": {},
     "output_type": "display_data"
    },
    {
     "name": "stdout",
     "output_type": "stream",
     "text": [
      "Simetric mean absolute percentage error:  74.8439888715916\n",
      "Mean Squared Error:  0.4897407332157482\n"
     ]
    },
    {
     "data": {
      "application/vnd.jupyter.widget-view+json": {
       "model_id": "72b1d6e97b124302a493724752c3bc95",
       "version_major": 2,
       "version_minor": 0
      },
      "text/plain": [
       "  0%|          | 0/832 [00:00<?, ?it/s]"
      ]
     },
     "metadata": {},
     "output_type": "display_data"
    },
    {
     "name": "stdout",
     "output_type": "stream",
     "text": [
      "Simetric mean absolute percentage error:  75.24874923442924\n",
      "Mean Squared Error:  0.42183803725458635\n"
     ]
    },
    {
     "data": {
      "application/vnd.jupyter.widget-view+json": {
       "model_id": "ada941bab91f47d7a1047ac90f9dcd56",
       "version_major": 2,
       "version_minor": 0
      },
      "text/plain": [
       "  0%|          | 0/832 [00:00<?, ?it/s]"
      ]
     },
     "metadata": {},
     "output_type": "display_data"
    },
    {
     "name": "stdout",
     "output_type": "stream",
     "text": [
      "Simetric mean absolute percentage error:  75.71361861786752\n",
      "Mean Squared Error:  0.4030840184904902\n"
     ]
    },
    {
     "name": "stderr",
     "output_type": "stream",
     "text": [
      "\u001b[32m[I 2023-05-15 16:11:40,556]\u001b[0m Trial 1 finished with value: 0.4030840184904902 and parameters: {'optimizer': 'RMSprop', 'lr': 0.001, 'kernel_size': 2, 'feature_size': 32, 'hidden_size': 128, 'n_layers': 2}. Best is trial 1 with value: 0.4030840184904902.\u001b[0m\n"
     ]
    },
    {
     "name": "stdout",
     "output_type": "stream",
     "text": [
      "Simetric mean absolute percentage error:  75.71361861786752\n",
      "Mean Squared Error:  0.4030840184904902\n"
     ]
    },
    {
     "data": {
      "application/vnd.jupyter.widget-view+json": {
       "model_id": "ca42cc4ef8674c3bb742d7638eb830d3",
       "version_major": 2,
       "version_minor": 0
      },
      "text/plain": [
       "  0%|          | 0/832 [00:00<?, ?it/s]"
      ]
     },
     "metadata": {},
     "output_type": "display_data"
    },
    {
     "name": "stdout",
     "output_type": "stream",
     "text": [
      "Simetric mean absolute percentage error:  89.36288786840144\n",
      "Mean Squared Error:  0.5078573451187048\n"
     ]
    },
    {
     "data": {
      "application/vnd.jupyter.widget-view+json": {
       "model_id": "80ada807ffca41c19aebc1fe6635def9",
       "version_major": 2,
       "version_minor": 0
      },
      "text/plain": [
       "  0%|          | 0/832 [00:00<?, ?it/s]"
      ]
     },
     "metadata": {},
     "output_type": "display_data"
    },
    {
     "name": "stdout",
     "output_type": "stream",
     "text": [
      "Simetric mean absolute percentage error:  73.5971487292936\n",
      "Mean Squared Error:  0.31583303713836686\n"
     ]
    },
    {
     "data": {
      "application/vnd.jupyter.widget-view+json": {
       "model_id": "a6152218a76d425fbd6889bb3264ff47",
       "version_major": 2,
       "version_minor": 0
      },
      "text/plain": [
       "  0%|          | 0/832 [00:00<?, ?it/s]"
      ]
     },
     "metadata": {},
     "output_type": "display_data"
    },
    {
     "name": "stdout",
     "output_type": "stream",
     "text": [
      "Simetric mean absolute percentage error:  71.9112369110994\n",
      "Mean Squared Error:  0.3000680470976883\n"
     ]
    },
    {
     "name": "stderr",
     "output_type": "stream",
     "text": [
      "\u001b[32m[I 2023-05-15 16:12:27,598]\u001b[0m Trial 2 finished with value: 0.3000680470976883 and parameters: {'optimizer': 'Adam', 'lr': 0.001, 'kernel_size': 4, 'feature_size': 128, 'hidden_size': 64, 'n_layers': 2}. Best is trial 2 with value: 0.3000680470976883.\u001b[0m\n"
     ]
    },
    {
     "name": "stdout",
     "output_type": "stream",
     "text": [
      "Simetric mean absolute percentage error:  71.9112369110994\n",
      "Mean Squared Error:  0.3000680470976883\n"
     ]
    },
    {
     "data": {
      "application/vnd.jupyter.widget-view+json": {
       "model_id": "f3a8ac61ed7e4fd98bf2e4f163a50c0c",
       "version_major": 2,
       "version_minor": 0
      },
      "text/plain": [
       "  0%|          | 0/832 [00:00<?, ?it/s]"
      ]
     },
     "metadata": {},
     "output_type": "display_data"
    },
    {
     "name": "stdout",
     "output_type": "stream",
     "text": [
      "Simetric mean absolute percentage error:  121.18618512518854\n",
      "Mean Squared Error:  0.7921107755433445\n"
     ]
    },
    {
     "data": {
      "application/vnd.jupyter.widget-view+json": {
       "model_id": "c172b9b5ffe54d27be89df2ab0fde600",
       "version_major": 2,
       "version_minor": 0
      },
      "text/plain": [
       "  0%|          | 0/832 [00:00<?, ?it/s]"
      ]
     },
     "metadata": {},
     "output_type": "display_data"
    },
    {
     "name": "stdout",
     "output_type": "stream",
     "text": [
      "Simetric mean absolute percentage error:  200.0\n",
      "Mean Squared Error:  1.248509251300926\n"
     ]
    },
    {
     "data": {
      "application/vnd.jupyter.widget-view+json": {
       "model_id": "655c22172aac447db6cba19c20303ad2",
       "version_major": 2,
       "version_minor": 0
      },
      "text/plain": [
       "  0%|          | 0/832 [00:00<?, ?it/s]"
      ]
     },
     "metadata": {},
     "output_type": "display_data"
    },
    {
     "name": "stdout",
     "output_type": "stream",
     "text": [
      "Simetric mean absolute percentage error:  200.0\n",
      "Mean Squared Error:  1.248509251300926\n"
     ]
    },
    {
     "name": "stderr",
     "output_type": "stream",
     "text": [
      "\u001b[32m[I 2023-05-15 16:15:04,678]\u001b[0m Trial 3 finished with value: 1.248509251300926 and parameters: {'optimizer': 'RMSprop', 'lr': 0.001, 'kernel_size': 6, 'feature_size': 128, 'hidden_size': 256, 'n_layers': 4}. Best is trial 2 with value: 0.3000680470976883.\u001b[0m\n"
     ]
    },
    {
     "name": "stdout",
     "output_type": "stream",
     "text": [
      "Simetric mean absolute percentage error:  200.0\n",
      "Mean Squared Error:  1.248509251300926\n"
     ]
    },
    {
     "data": {
      "application/vnd.jupyter.widget-view+json": {
       "model_id": "11de6d79c5d246888e653abf8efe1b18",
       "version_major": 2,
       "version_minor": 0
      },
      "text/plain": [
       "  0%|          | 0/832 [00:00<?, ?it/s]"
      ]
     },
     "metadata": {},
     "output_type": "display_data"
    },
    {
     "name": "stdout",
     "output_type": "stream",
     "text": [
      "Simetric mean absolute percentage error:  104.73453616204198\n",
      "Mean Squared Error:  0.6253098751490471\n"
     ]
    },
    {
     "data": {
      "application/vnd.jupyter.widget-view+json": {
       "model_id": "a7453ea364e9459580069dc7d4e23b1f",
       "version_major": 2,
       "version_minor": 0
      },
      "text/plain": [
       "  0%|          | 0/832 [00:00<?, ?it/s]"
      ]
     },
     "metadata": {},
     "output_type": "display_data"
    },
    {
     "name": "stdout",
     "output_type": "stream",
     "text": [
      "Simetric mean absolute percentage error:  96.45200264550262\n",
      "Mean Squared Error:  0.499544921163057\n"
     ]
    },
    {
     "data": {
      "application/vnd.jupyter.widget-view+json": {
       "model_id": "bda5bee97dc24e6387890a56b91771ee",
       "version_major": 2,
       "version_minor": 0
      },
      "text/plain": [
       "  0%|          | 0/832 [00:00<?, ?it/s]"
      ]
     },
     "metadata": {},
     "output_type": "display_data"
    },
    {
     "name": "stdout",
     "output_type": "stream",
     "text": [
      "Simetric mean absolute percentage error:  82.54927773684702\n",
      "Mean Squared Error:  0.38557836939998097\n"
     ]
    },
    {
     "name": "stderr",
     "output_type": "stream",
     "text": [
      "\u001b[32m[I 2023-05-15 16:15:50,163]\u001b[0m Trial 4 finished with value: 0.38557836939998097 and parameters: {'optimizer': 'Adam', 'lr': 0.001, 'kernel_size': 2, 'feature_size': 256, 'hidden_size': 32, 'n_layers': 4}. Best is trial 2 with value: 0.3000680470976883.\u001b[0m\n"
     ]
    },
    {
     "name": "stdout",
     "output_type": "stream",
     "text": [
      "Simetric mean absolute percentage error:  82.54927773684702\n",
      "Mean Squared Error:  0.38557836939998097\n"
     ]
    },
    {
     "data": {
      "application/vnd.jupyter.widget-view+json": {
       "model_id": "f79bd2e44af044a88e76fc47dea6dbf3",
       "version_major": 2,
       "version_minor": 0
      },
      "text/plain": [
       "  0%|          | 0/832 [00:00<?, ?it/s]"
      ]
     },
     "metadata": {},
     "output_type": "display_data"
    },
    {
     "name": "stderr",
     "output_type": "stream",
     "text": [
      "\u001b[32m[I 2023-05-15 16:16:18,292]\u001b[0m Trial 5 pruned. \u001b[0m\n"
     ]
    },
    {
     "name": "stdout",
     "output_type": "stream",
     "text": [
      "Simetric mean absolute percentage error:  135.73715192043758\n",
      "Mean Squared Error:  0.8810525810371153\n"
     ]
    },
    {
     "data": {
      "application/vnd.jupyter.widget-view+json": {
       "model_id": "e55b57ef362249688d4ba72c03cf095c",
       "version_major": 2,
       "version_minor": 0
      },
      "text/plain": [
       "  0%|          | 0/832 [00:00<?, ?it/s]"
      ]
     },
     "metadata": {},
     "output_type": "display_data"
    },
    {
     "name": "stdout",
     "output_type": "stream",
     "text": [
      "Simetric mean absolute percentage error:  71.76532859349865\n",
      "Mean Squared Error:  0.4296834058807766\n"
     ]
    },
    {
     "data": {
      "application/vnd.jupyter.widget-view+json": {
       "model_id": "2d1b82023d904b5280bea1a083196d79",
       "version_major": 2,
       "version_minor": 0
      },
      "text/plain": [
       "  0%|          | 0/832 [00:00<?, ?it/s]"
      ]
     },
     "metadata": {},
     "output_type": "display_data"
    },
    {
     "name": "stdout",
     "output_type": "stream",
     "text": [
      "Simetric mean absolute percentage error:  69.40481916458688\n",
      "Mean Squared Error:  0.3569638213368656\n"
     ]
    },
    {
     "data": {
      "application/vnd.jupyter.widget-view+json": {
       "model_id": "b51a71bccd4442e18d2bf8d95bf708bc",
       "version_major": 2,
       "version_minor": 0
      },
      "text/plain": [
       "  0%|          | 0/832 [00:00<?, ?it/s]"
      ]
     },
     "metadata": {},
     "output_type": "display_data"
    },
    {
     "name": "stdout",
     "output_type": "stream",
     "text": [
      "Simetric mean absolute percentage error:  69.5335686799552\n",
      "Mean Squared Error:  0.3442552451405631\n"
     ]
    },
    {
     "name": "stderr",
     "output_type": "stream",
     "text": [
      "\u001b[32m[I 2023-05-15 16:16:52,841]\u001b[0m Trial 6 finished with value: 0.3442552451405631 and parameters: {'optimizer': 'RMSprop', 'lr': 0.001, 'kernel_size': 6, 'feature_size': 32, 'hidden_size': 64, 'n_layers': 2}. Best is trial 2 with value: 0.3000680470976883.\u001b[0m\n"
     ]
    },
    {
     "name": "stdout",
     "output_type": "stream",
     "text": [
      "Simetric mean absolute percentage error:  69.5335686799552\n",
      "Mean Squared Error:  0.3442552451405631\n"
     ]
    },
    {
     "data": {
      "application/vnd.jupyter.widget-view+json": {
       "model_id": "f7069c614ac14a3792e388b86f977bd1",
       "version_major": 2,
       "version_minor": 0
      },
      "text/plain": [
       "  0%|          | 0/832 [00:00<?, ?it/s]"
      ]
     },
     "metadata": {},
     "output_type": "display_data"
    },
    {
     "name": "stdout",
     "output_type": "stream",
     "text": [
      "Simetric mean absolute percentage error:  96.57581505591956\n",
      "Mean Squared Error:  0.5284674870454427\n"
     ]
    },
    {
     "data": {
      "application/vnd.jupyter.widget-view+json": {
       "model_id": "40944235f39744b7bf70c82d6f4ff1a3",
       "version_major": 2,
       "version_minor": 0
      },
      "text/plain": [
       "  0%|          | 0/832 [00:00<?, ?it/s]"
      ]
     },
     "metadata": {},
     "output_type": "display_data"
    },
    {
     "name": "stdout",
     "output_type": "stream",
     "text": [
      "Simetric mean absolute percentage error:  78.74104234450769\n",
      "Mean Squared Error:  0.3669228663026928\n"
     ]
    },
    {
     "data": {
      "application/vnd.jupyter.widget-view+json": {
       "model_id": "95c248b5739c4123bfb4806f3980798b",
       "version_major": 2,
       "version_minor": 0
      },
      "text/plain": [
       "  0%|          | 0/832 [00:00<?, ?it/s]"
      ]
     },
     "metadata": {},
     "output_type": "display_data"
    },
    {
     "name": "stdout",
     "output_type": "stream",
     "text": [
      "Simetric mean absolute percentage error:  75.16238156005593\n",
      "Mean Squared Error:  0.32022978242794886\n"
     ]
    },
    {
     "name": "stderr",
     "output_type": "stream",
     "text": [
      "\u001b[32m[I 2023-05-15 16:17:45,417]\u001b[0m Trial 7 finished with value: 0.32022978242794886 and parameters: {'optimizer': 'Adam', 'lr': 0.001, 'kernel_size': 4, 'feature_size': 64, 'hidden_size': 128, 'n_layers': 2}. Best is trial 2 with value: 0.3000680470976883.\u001b[0m\n"
     ]
    },
    {
     "name": "stdout",
     "output_type": "stream",
     "text": [
      "Simetric mean absolute percentage error:  75.16238156005593\n",
      "Mean Squared Error:  0.32022978242794886\n"
     ]
    },
    {
     "data": {
      "application/vnd.jupyter.widget-view+json": {
       "model_id": "3f5f5b62c0294448b2a7930237754576",
       "version_major": 2,
       "version_minor": 0
      },
      "text/plain": [
       "  0%|          | 0/832 [00:00<?, ?it/s]"
      ]
     },
     "metadata": {},
     "output_type": "display_data"
    },
    {
     "name": "stdout",
     "output_type": "stream",
     "text": [
      "Simetric mean absolute percentage error:  86.76350058040981\n",
      "Mean Squared Error:  0.46621903290055583\n"
     ]
    },
    {
     "data": {
      "application/vnd.jupyter.widget-view+json": {
       "model_id": "9422f29509b441bb92a5439d1ecb80f6",
       "version_major": 2,
       "version_minor": 0
      },
      "text/plain": [
       "  0%|          | 0/832 [00:00<?, ?it/s]"
      ]
     },
     "metadata": {},
     "output_type": "display_data"
    },
    {
     "name": "stdout",
     "output_type": "stream",
     "text": [
      "Simetric mean absolute percentage error:  72.63841259293972\n",
      "Mean Squared Error:  0.3183622429515835\n"
     ]
    },
    {
     "data": {
      "application/vnd.jupyter.widget-view+json": {
       "model_id": "9d8d2794eb1d4e5cb0aa0ab650e18478",
       "version_major": 2,
       "version_minor": 0
      },
      "text/plain": [
       "  0%|          | 0/832 [00:00<?, ?it/s]"
      ]
     },
     "metadata": {},
     "output_type": "display_data"
    },
    {
     "name": "stdout",
     "output_type": "stream",
     "text": [
      "Simetric mean absolute percentage error:  69.83289801427867\n",
      "Mean Squared Error:  0.27811501783204584\n"
     ]
    },
    {
     "name": "stderr",
     "output_type": "stream",
     "text": [
      "\u001b[32m[I 2023-05-15 16:20:21,408]\u001b[0m Trial 8 finished with value: 0.27811501783204584 and parameters: {'optimizer': 'Adam', 'lr': 0.001, 'kernel_size': 6, 'feature_size': 128, 'hidden_size': 256, 'n_layers': 4}. Best is trial 8 with value: 0.27811501783204584.\u001b[0m\n"
     ]
    },
    {
     "name": "stdout",
     "output_type": "stream",
     "text": [
      "Simetric mean absolute percentage error:  69.83289801427867\n",
      "Mean Squared Error:  0.27811501783204584\n"
     ]
    },
    {
     "data": {
      "application/vnd.jupyter.widget-view+json": {
       "model_id": "44572c8036554955a3be879fb79143a4",
       "version_major": 2,
       "version_minor": 0
      },
      "text/plain": [
       "  0%|          | 0/832 [00:00<?, ?it/s]"
      ]
     },
     "metadata": {},
     "output_type": "display_data"
    },
    {
     "name": "stderr",
     "output_type": "stream",
     "text": [
      "\u001b[32m[I 2023-05-15 16:22:17,219]\u001b[0m Trial 9 pruned. \u001b[0m\n"
     ]
    },
    {
     "name": "stdout",
     "output_type": "stream",
     "text": [
      "Simetric mean absolute percentage error:  80.95207335007424\n",
      "Mean Squared Error:  0.5498746414150242\n"
     ]
    },
    {
     "data": {
      "application/vnd.jupyter.widget-view+json": {
       "model_id": "50fa87cad38d49d9ad1f659ca069162c",
       "version_major": 2,
       "version_minor": 0
      },
      "text/plain": [
       "  0%|          | 0/832 [00:00<?, ?it/s]"
      ]
     },
     "metadata": {},
     "output_type": "display_data"
    },
    {
     "name": "stdout",
     "output_type": "stream",
     "text": [
      "Simetric mean absolute percentage error:  76.2273197147097\n",
      "Mean Squared Error:  0.47430502918953704\n"
     ]
    },
    {
     "data": {
      "application/vnd.jupyter.widget-view+json": {
       "model_id": "0a042586806c48c587db58a6d02ea699",
       "version_major": 2,
       "version_minor": 0
      },
      "text/plain": [
       "  0%|          | 0/832 [00:00<?, ?it/s]"
      ]
     },
     "metadata": {},
     "output_type": "display_data"
    },
    {
     "name": "stdout",
     "output_type": "stream",
     "text": [
      "Simetric mean absolute percentage error:  68.97121776629231\n",
      "Mean Squared Error:  0.3503743824875709\n"
     ]
    },
    {
     "data": {
      "application/vnd.jupyter.widget-view+json": {
       "model_id": "f0eeb9eedc724cc4ac1769f7f0616360",
       "version_major": 2,
       "version_minor": 0
      },
      "text/plain": [
       "  0%|          | 0/832 [00:00<?, ?it/s]"
      ]
     },
     "metadata": {},
     "output_type": "display_data"
    },
    {
     "name": "stdout",
     "output_type": "stream",
     "text": [
      "Simetric mean absolute percentage error:  68.05131032002974\n",
      "Mean Squared Error:  0.30684195179850815\n"
     ]
    },
    {
     "name": "stderr",
     "output_type": "stream",
     "text": [
      "\u001b[32m[I 2023-05-15 16:22:49,182]\u001b[0m Trial 10 finished with value: 0.30684195179850815 and parameters: {'optimizer': 'RMSprop', 'lr': 0.001, 'kernel_size': 4, 'feature_size': 128, 'hidden_size': 32, 'n_layers': 2}. Best is trial 8 with value: 0.27811501783204584.\u001b[0m\n"
     ]
    },
    {
     "name": "stdout",
     "output_type": "stream",
     "text": [
      "Simetric mean absolute percentage error:  68.05131032002974\n",
      "Mean Squared Error:  0.30684195179850815\n"
     ]
    },
    {
     "data": {
      "application/vnd.jupyter.widget-view+json": {
       "model_id": "dfc9e919eb2844bdae99a878d5e8d16b",
       "version_major": 2,
       "version_minor": 0
      },
      "text/plain": [
       "  0%|          | 0/832 [00:00<?, ?it/s]"
      ]
     },
     "metadata": {},
     "output_type": "display_data"
    },
    {
     "name": "stderr",
     "output_type": "stream",
     "text": [
      "\u001b[32m[I 2023-05-15 16:23:35,183]\u001b[0m Trial 11 pruned. \u001b[0m\n"
     ]
    },
    {
     "name": "stdout",
     "output_type": "stream",
     "text": [
      "Simetric mean absolute percentage error:  200.0\n",
      "Mean Squared Error:  1.248509251300926\n"
     ]
    },
    {
     "data": {
      "application/vnd.jupyter.widget-view+json": {
       "model_id": "708ba14631594b109b266c0eb1dbbfe5",
       "version_major": 2,
       "version_minor": 0
      },
      "text/plain": [
       "  0%|          | 0/832 [00:00<?, ?it/s]"
      ]
     },
     "metadata": {},
     "output_type": "display_data"
    },
    {
     "name": "stderr",
     "output_type": "stream",
     "text": [
      "\u001b[32m[I 2023-05-15 16:23:43,740]\u001b[0m Trial 12 pruned. \u001b[0m\n"
     ]
    },
    {
     "name": "stdout",
     "output_type": "stream",
     "text": [
      "Simetric mean absolute percentage error:  96.95838244628231\n",
      "Mean Squared Error:  0.5399680696686333\n"
     ]
    },
    {
     "data": {
      "application/vnd.jupyter.widget-view+json": {
       "model_id": "06b4cfb9c0a04d92ab67eca0e0471591",
       "version_major": 2,
       "version_minor": 0
      },
      "text/plain": [
       "  0%|          | 0/832 [00:00<?, ?it/s]"
      ]
     },
     "metadata": {},
     "output_type": "display_data"
    },
    {
     "name": "stderr",
     "output_type": "stream",
     "text": [
      "\u001b[32m[I 2023-05-15 16:24:03,135]\u001b[0m Trial 13 pruned. \u001b[0m\n"
     ]
    },
    {
     "name": "stdout",
     "output_type": "stream",
     "text": [
      "Simetric mean absolute percentage error:  200.0\n",
      "Mean Squared Error:  1.248509251300926\n"
     ]
    },
    {
     "data": {
      "application/vnd.jupyter.widget-view+json": {
       "model_id": "d7b301094ebd4453b63d8274b8d21080",
       "version_major": 2,
       "version_minor": 0
      },
      "text/plain": [
       "  0%|          | 0/832 [00:00<?, ?it/s]"
      ]
     },
     "metadata": {},
     "output_type": "display_data"
    },
    {
     "name": "stderr",
     "output_type": "stream",
     "text": [
      "\u001b[32m[I 2023-05-15 16:24:57,321]\u001b[0m Trial 14 pruned. \u001b[0m\n"
     ]
    },
    {
     "name": "stdout",
     "output_type": "stream",
     "text": [
      "Simetric mean absolute percentage error:  200.0\n",
      "Mean Squared Error:  1.248509251300926\n",
      "Best Hyperparameters: {'optimizer': 'Adam', 'lr': 0.001, 'kernel_size': 6, 'feature_size': 128, 'hidden_size': 256, 'n_layers': 4}\n",
      "Best Score: 0.27811501783204584\n"
     ]
    }
   ],
   "source": [
    "import optuna\n",
    "from sklearn.model_selection import cross_val_score\n",
    "\n",
    "\n",
    "batch_size = 32\n",
    "epochs = 3\n",
    "input_size =1\n",
    "seq_lenght = 24\n",
    "padding = 1\n",
    "NUM_WORKERS = multiprocessing.cpu_count()\n",
    "\n",
    "device = torch.device('cuda' if torch.cuda.is_available() else 'cpu')\n",
    "print(f'Training on {device}')\n",
    "train_data = PowerData(train_hour, seq_lenght)\n",
    "test_data = PowerData(test_hour, seq_lenght)\n",
    "\n",
    "train_loader = DataLoader(train_data, batch_size=batch_size, num_workers=NUM_WORKERS)\n",
    "test_loader = DataLoader(test_data, batch_size=batch_size, num_workers=NUM_WORKERS)\n",
    "\n",
    "\n",
    "def objective(trial):\n",
    "\n",
    "    optimizer_name = trial.suggest_categorical(\"optimizer\", [\"Adam\", \"RMSprop\", \"SGD\"])\n",
    "    lr = trial.suggest_float(\"lr\", 1e-5, 1e-1, log=True)\n",
    "    kernel_size = trial.suggest_int('kernel_size', 2,8)\n",
    "    feature_size = trial.suggest_int('feature_size', 32, 256)\n",
    "    hidden_size = trial.suggest_int('hidden_size', 32, 256)\n",
    "    n_layers = trial.suggest_int('n_layers', 1, 64)\n",
    "\n",
    "    model_HO = CONV_LSTM_Model(input_size, kernel_size, feature_size, hidden_size, seq_lenght, n_layers, padding).to(device)\n",
    "    optimizer = getattr(optim, optimizer_name)(model_HO.parameters(), lr=lr)\n",
    "    criterion = nn.MSELoss()\n",
    "    model_HO.double()\n",
    "    for epoch in range(epochs):\n",
    "        train_model(model_HO, device, train_loader, optimizer, criterion, epoch)\n",
    "        preds, targets, mse_epoch = performance(model_HO, device, test_loader, test_data)\n",
    "        trial.report(mse_epoch, epoch)\n",
    "        if trial.should_prune():\n",
    "            raise optuna.exceptions.TrialPruned()\n",
    "\n",
    "    preds_final, targets_final, mse = performance(model_HO, device, test_loader, test_data)\n",
    "    return mse\n",
    "\n",
    "params = {\n",
    "    'kernel_size': [2, 4, 6],\n",
    "    'feature_size': [32, 64, 128, 256],\n",
    "    'hidden_size': [32, 64, 128, 256],\n",
    "    'n_layers': [2,4,8],\n",
    "    'lr': [0.001, 0.01],\n",
    "    'optimizer': [\"Adam\", 'RMSprop']\n",
    "\n",
    "}\n",
    "study = optuna.create_study(direction='minimize', sampler=optuna.samplers.GridSampler(params))\n",
    "study.optimize(objective, n_trials=100, timeout=900)\n",
    "\n",
    "\n",
    "# Get the best hyperparameters and their corresponding score\n",
    "best_params = study.best_params\n",
    "best_score = study.best_value\n",
    "\n",
    "# Print the best hyperparameters and score\n",
    "print(\"Best Hyperparameters:\", best_params)\n",
    "print(\"Best Score:\", best_score)"
   ]
  },
  {
   "attachments": {},
   "cell_type": "markdown",
   "metadata": {},
   "source": [
    "El segundo mejor\n",
    "```\n",
    "{'optimizer': 'Adam',\n",
    " 'lr': 0.001, \n",
    " 'kernel_size': 4, \n",
    " 'feature_size': 128, \n",
    " 'hidden_size': 64, \n",
    " 'n_layers': 2}\n",
    " ```\n",
    "\n",
    "El mejor\n",
    "\n",
    "``` \n",
    "{'optimizer': 'Adam',\n",
    " 'lr': 0.001,\n",
    " 'kernel_size': 6,\n",
    " 'feature_size': 128,\n",
    " 'hidden_size': 256,\n",
    " 'n_layers': 4}\n",
    " ```"
   ]
  },
  {
   "cell_type": "code",
   "execution_count": null,
   "metadata": {},
   "outputs": [],
   "source": [
    "import optuna\n",
    "from sklearn.model_selection import cross_val_score\n",
    "\n",
    "\n",
    "batch_size = 32\n",
    "epochs = 3\n",
    "input_size =1\n",
    "seq_lenght = 24\n",
    "padding = 1\n",
    "feature_size = 128\n",
    "NUM_WORKERS = multiprocessing.cpu_count()\n",
    "\n",
    "device = torch.device('cuda' if torch.cuda.is_available() else 'cpu')\n",
    "print(f'Training on {device}')\n",
    "train_data = PowerData(train_hour, seq_lenght)\n",
    "test_data = PowerData(test_hour, seq_lenght)\n",
    "\n",
    "train_loader = DataLoader(train_data, batch_size=batch_size, num_workers=NUM_WORKERS)\n",
    "test_loader = DataLoader(test_data, batch_size=batch_size, num_workers=NUM_WORKERS)\n",
    "\n",
    "\n",
    "def objective(trial):\n",
    "\n",
    "    optimizer_name = trial.suggest_categorical(\"optimizer\", [\"Adam\", \"RMSprop\"])\n",
    "    lr = trial.suggest_float(\"lr\", 1e-5, 1e-3, log=True)\n",
    "    kernel_size = trial.suggest_int('kernel_size', 6,8)\n",
    "    #feature_size = trial.suggest_int('feature_size', 32, 256)\n",
    "    hidden_size = trial.suggest_int('hidden_size', 64, 256)\n",
    "    n_layers = trial.suggest_int('n_layers', 2, 6)\n",
    "\n",
    "    model_HO = CONV_LSTM_Model(input_size, kernel_size, feature_size, hidden_size, seq_lenght, n_layers, padding).to(device)\n",
    "    optimizer = getattr(optim, optimizer_name)(model_HO.parameters(), lr=lr)\n",
    "    criterion = nn.MSELoss()\n",
    "    model_HO.double()\n",
    "    for epoch in range(epochs):\n",
    "        train_model(model_HO, device, train_loader, optimizer, criterion, epoch)\n",
    "        preds, targets, mse_epoch = performance(model_HO, device, test_loader, test_data)\n",
    "        trial.report(mse_epoch, epoch)\n",
    "        if trial.should_prune():\n",
    "            raise optuna.exceptions.TrialPruned()\n",
    "\n",
    "    preds_final, targets_final, mse = performance(model_HO, device, test_loader, test_data)\n",
    "    return mse\n",
    "\n",
    "study = optuna.create_study(direction='minimize', sampler=optuna.samplers.TPESampler())\n",
    "study.optimize(objective, n_trials=100, timeout=1200)\n",
    "\n",
    "\n",
    "# Get the best hyperparameters and their corresponding score\n",
    "best_params = study.best_params\n",
    "best_score = study.best_value\n",
    "\n",
    "# Print the best hyperparameters and score\n",
    "print(\"Best Hyperparameters:\", best_params)\n",
    "print(\"Best Score:\", best_score)"
   ]
  },
  {
   "attachments": {},
   "cell_type": "markdown",
   "metadata": {},
   "source": [
    "## Referencias: \n",
    "1. https://towardsdatascience.com/hyperparameter-tuning-of-neural-networks-with-optuna-and-pytorch-22e179efc837\n",
    "2. https://github.com/optuna/optuna-examples/blob/main/pytorch/pytorch_simple.py \n",
    "3. https://pytorch.org/docs/stable/generated/torch.nn.LSTM.html?highlight=lstms\n",
    "4. [LONG SHORT-TERM MEMORY BASED RECURRENT NEURAL NETWORK ARCHITECTURES FOR LARGE VOCABULARY SPEECH RECOGNITION](https://arxiv.org/pdf/1402.1128.pdf)\n",
    "5. [Multi-Step Short-Term Power Consumption Forecasting with a Hybrid Deep Learning Strategy](https://www.mdpi.com/1996-1073/11/11/3089)\n",
    "6. [Simetric Mean Absolute Percentage Error](https://en.wikipedia.org/wiki/Symmetric_mean_absolute_percentage_error#:~:text=Symmetric%20mean%20absolute%20percentage%20error%20(SMAPE%20or%20sMAPE)%20is%20an,t%20is%20the%20forecast%20value.)"
   ]
  }
 ],
 "metadata": {
  "kernelspec": {
   "display_name": "Python 3 (ipykernel)",
   "language": "python",
   "name": "python3"
  },
  "language_info": {
   "codemirror_mode": {
    "name": "ipython",
    "version": 3
   },
   "file_extension": ".py",
   "mimetype": "text/x-python",
   "name": "python",
   "nbconvert_exporter": "python",
   "pygments_lexer": "ipython3",
   "version": "3.10.11"
  }
 },
 "nbformat": 4,
 "nbformat_minor": 4
}
