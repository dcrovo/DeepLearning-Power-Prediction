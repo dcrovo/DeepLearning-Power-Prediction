{
 "cells": [
  {
   "attachments": {},
   "cell_type": "markdown",
   "metadata": {},
   "source": [
    "# Taller ASP - Daniel Crovo - Deep Learning\n",
    "**Objetivos**\n",
    "- Predecir los valores futuros de una serie temporal haciendo uso de técnicas de Deep Learning.\n",
    "- Implementar la optimización de hiperparámetros y cuantificar el efecto a través de métricas de desempeño."
   ]
  },
  {
   "attachments": {},
   "cell_type": "markdown",
   "metadata": {},
   "source": [
    "En el ámbito de la ingenierı́a eléctrica, uno de los principales desafı́os es la planificación y gestión eficiente de la producción de energı́a eléctrica. La potencia activa es una medida de la energı́a eléctrica que se consume o se produce en un sistema eléctrico en un momento dado, y su estimación precisa es esencial para garantizar que la producción de energı́a eléctrica se ajuste a la demanda en tiempo real. Además, la potencia activa es uno de los factores clave que determinan la estabilidad y la calidad de la energı́a eléctrica suministrada a los consumidores. Por lo anterior, la predicción de la potencia activa global que se espera que se consuma o produzca en las próximas 24 horas es un problema crı́tico en la planificación y gestión de la producción de energı́a eléctrica. Una solución precisa y confiable para este problema puede ayudar a mejorar la eficiencia y la estabilidad de la red eléctrica, ası́ como a reducir los costos y las emisiones de gases de efecto invernadero asociados con la producción de energı́a eléctrica."
   ]
  },
  {
   "attachments": {},
   "cell_type": "markdown",
   "metadata": {},
   "source": [
    "## Preprocesamiento de los datos"
   ]
  },
  {
   "cell_type": "code",
   "execution_count": 173,
   "metadata": {},
   "outputs": [
    {
     "data": {
      "text/html": [
       "<div>\n",
       "<style scoped>\n",
       "    .dataframe tbody tr th:only-of-type {\n",
       "        vertical-align: middle;\n",
       "    }\n",
       "\n",
       "    .dataframe tbody tr th {\n",
       "        vertical-align: top;\n",
       "    }\n",
       "\n",
       "    .dataframe thead th {\n",
       "        text-align: right;\n",
       "    }\n",
       "</style>\n",
       "<table border=\"1\" class=\"dataframe\">\n",
       "  <thead>\n",
       "    <tr style=\"text-align: right;\">\n",
       "      <th></th>\n",
       "      <th>Fecha</th>\n",
       "      <th>Hora</th>\n",
       "      <th>Potencia Activa Global (W)</th>\n",
       "    </tr>\n",
       "  </thead>\n",
       "  <tbody>\n",
       "    <tr>\n",
       "      <th>0</th>\n",
       "      <td>16/12/2006</td>\n",
       "      <td>17:24:00</td>\n",
       "      <td>4.216</td>\n",
       "    </tr>\n",
       "    <tr>\n",
       "      <th>1</th>\n",
       "      <td>16/12/2006</td>\n",
       "      <td>17:25:00</td>\n",
       "      <td>5.360</td>\n",
       "    </tr>\n",
       "    <tr>\n",
       "      <th>2</th>\n",
       "      <td>16/12/2006</td>\n",
       "      <td>17:26:00</td>\n",
       "      <td>5.374</td>\n",
       "    </tr>\n",
       "    <tr>\n",
       "      <th>3</th>\n",
       "      <td>16/12/2006</td>\n",
       "      <td>17:27:00</td>\n",
       "      <td>5.388</td>\n",
       "    </tr>\n",
       "    <tr>\n",
       "      <th>4</th>\n",
       "      <td>16/12/2006</td>\n",
       "      <td>17:28:00</td>\n",
       "      <td>3.666</td>\n",
       "    </tr>\n",
       "  </tbody>\n",
       "</table>\n",
       "</div>"
      ],
      "text/plain": [
       "        Fecha      Hora Potencia Activa Global (W)\n",
       "0  16/12/2006  17:24:00                      4.216\n",
       "1  16/12/2006  17:25:00                      5.360\n",
       "2  16/12/2006  17:26:00                      5.374\n",
       "3  16/12/2006  17:27:00                      5.388\n",
       "4  16/12/2006  17:28:00                      3.666"
      ]
     },
     "execution_count": 173,
     "metadata": {},
     "output_type": "execute_result"
    }
   ],
   "source": [
    "import pandas as pd\n",
    "import matplotlib.pyplot as plt\n",
    "import seaborn as sns\n",
    "import torch\n",
    "import torch.nn as nn\n",
    "from torch.utils.data import Dataset\n",
    "from torch.utils.data import DataLoader\n",
    "import torch.optim as optim\n",
    "from sklearn.preprocessing import MinMaxScaler\n",
    "from tqdm.notebook import tqdm\n",
    "import os \n",
    "import numpy as np\n",
    "from sklearn.metrics import mean_squared_error\n",
    "\n",
    "\n",
    "data = pd.read_csv('../data/data_asp.csv')\n",
    "data.head()"
   ]
  },
  {
   "cell_type": "code",
   "execution_count": 174,
   "metadata": {},
   "outputs": [
    {
     "data": {
      "text/html": [
       "<div>\n",
       "<style scoped>\n",
       "    .dataframe tbody tr th:only-of-type {\n",
       "        vertical-align: middle;\n",
       "    }\n",
       "\n",
       "    .dataframe tbody tr th {\n",
       "        vertical-align: top;\n",
       "    }\n",
       "\n",
       "    .dataframe thead th {\n",
       "        text-align: right;\n",
       "    }\n",
       "</style>\n",
       "<table border=\"1\" class=\"dataframe\">\n",
       "  <thead>\n",
       "    <tr style=\"text-align: right;\">\n",
       "      <th></th>\n",
       "      <th>Power</th>\n",
       "    </tr>\n",
       "    <tr>\n",
       "      <th>Datetime</th>\n",
       "      <th></th>\n",
       "    </tr>\n",
       "  </thead>\n",
       "  <tbody>\n",
       "    <tr>\n",
       "      <th>2006-12-16 17:24:00</th>\n",
       "      <td>4.216</td>\n",
       "    </tr>\n",
       "    <tr>\n",
       "      <th>2006-12-16 17:25:00</th>\n",
       "      <td>5.360</td>\n",
       "    </tr>\n",
       "    <tr>\n",
       "      <th>2006-12-16 17:26:00</th>\n",
       "      <td>5.374</td>\n",
       "    </tr>\n",
       "    <tr>\n",
       "      <th>2006-12-16 17:27:00</th>\n",
       "      <td>5.388</td>\n",
       "    </tr>\n",
       "    <tr>\n",
       "      <th>2006-12-16 17:28:00</th>\n",
       "      <td>3.666</td>\n",
       "    </tr>\n",
       "  </tbody>\n",
       "</table>\n",
       "</div>"
      ],
      "text/plain": [
       "                     Power\n",
       "Datetime                  \n",
       "2006-12-16 17:24:00  4.216\n",
       "2006-12-16 17:25:00  5.360\n",
       "2006-12-16 17:26:00  5.374\n",
       "2006-12-16 17:27:00  5.388\n",
       "2006-12-16 17:28:00  3.666"
      ]
     },
     "execution_count": 174,
     "metadata": {},
     "output_type": "execute_result"
    }
   ],
   "source": [
    "# Renombrar columnas y concatenar Fecha y Hora para utilizarlas como index\n",
    "data.rename(columns={'Potencia Activa Global (W)':'Power'}, inplace=True) \n",
    "data['Power'] = pd.to_numeric(data['Power'], errors='coerce')\n",
    "data['Datetime'] = data['Fecha'] +\" \"+ data['Hora']     \n",
    "data['Datetime'] = pd.to_datetime(data['Datetime'], dayfirst=True)\n",
    "\n",
    "# Se eliminan las columnas pues ya no se requieren\n",
    "data.drop(['Fecha', 'Hora'], axis=1,inplace=True)\n",
    "data.set_index('Datetime', inplace=True)\n",
    "data.head()"
   ]
  },
  {
   "cell_type": "code",
   "execution_count": 175,
   "metadata": {},
   "outputs": [],
   "source": [
    "train = data.loc['2006-12-16 17:24:00':'2010-01-01 00:00:00'].copy()\n",
    "test = data.loc['2010-01-01 00:01:00':].copy()"
   ]
  },
  {
   "cell_type": "code",
   "execution_count": 176,
   "metadata": {},
   "outputs": [
    {
     "data": {
      "text/plain": [
       "(1600237, 1)"
      ]
     },
     "execution_count": 176,
     "metadata": {},
     "output_type": "execute_result"
    }
   ],
   "source": [
    "train.shape"
   ]
  },
  {
   "cell_type": "code",
   "execution_count": 177,
   "metadata": {},
   "outputs": [
    {
     "data": {
      "text/plain": [
       "(475022, 1)"
      ]
     },
     "execution_count": 177,
     "metadata": {},
     "output_type": "execute_result"
    }
   ],
   "source": [
    "test.shape"
   ]
  },
  {
   "cell_type": "code",
   "execution_count": 124,
   "metadata": {},
   "outputs": [
    {
     "data": {
      "text/html": [
       "<div>\n",
       "<style scoped>\n",
       "    .dataframe tbody tr th:only-of-type {\n",
       "        vertical-align: middle;\n",
       "    }\n",
       "\n",
       "    .dataframe tbody tr th {\n",
       "        vertical-align: top;\n",
       "    }\n",
       "\n",
       "    .dataframe thead th {\n",
       "        text-align: right;\n",
       "    }\n",
       "</style>\n",
       "<table border=\"1\" class=\"dataframe\">\n",
       "  <thead>\n",
       "    <tr style=\"text-align: right;\">\n",
       "      <th></th>\n",
       "      <th>Power</th>\n",
       "    </tr>\n",
       "  </thead>\n",
       "  <tbody>\n",
       "    <tr>\n",
       "      <th>count</th>\n",
       "      <td>2.049280e+06</td>\n",
       "    </tr>\n",
       "    <tr>\n",
       "      <th>mean</th>\n",
       "      <td>1.091615e+00</td>\n",
       "    </tr>\n",
       "    <tr>\n",
       "      <th>std</th>\n",
       "      <td>1.057294e+00</td>\n",
       "    </tr>\n",
       "    <tr>\n",
       "      <th>min</th>\n",
       "      <td>7.600000e-02</td>\n",
       "    </tr>\n",
       "    <tr>\n",
       "      <th>25%</th>\n",
       "      <td>3.080000e-01</td>\n",
       "    </tr>\n",
       "    <tr>\n",
       "      <th>50%</th>\n",
       "      <td>6.020000e-01</td>\n",
       "    </tr>\n",
       "    <tr>\n",
       "      <th>75%</th>\n",
       "      <td>1.528000e+00</td>\n",
       "    </tr>\n",
       "    <tr>\n",
       "      <th>max</th>\n",
       "      <td>1.112200e+01</td>\n",
       "    </tr>\n",
       "  </tbody>\n",
       "</table>\n",
       "</div>"
      ],
      "text/plain": [
       "              Power\n",
       "count  2.049280e+06\n",
       "mean   1.091615e+00\n",
       "std    1.057294e+00\n",
       "min    7.600000e-02\n",
       "25%    3.080000e-01\n",
       "50%    6.020000e-01\n",
       "75%    1.528000e+00\n",
       "max    1.112200e+01"
      ]
     },
     "execution_count": 124,
     "metadata": {},
     "output_type": "execute_result"
    }
   ],
   "source": [
    "# Se verifica información básica del dataset\n",
    "data.describe()"
   ]
  },
  {
   "cell_type": "code",
   "execution_count": 125,
   "metadata": {},
   "outputs": [
    {
     "data": {
      "text/plain": [
       "25979"
      ]
     },
     "execution_count": 125,
     "metadata": {},
     "output_type": "execute_result"
    }
   ],
   "source": [
    "# Las siguientes lineas de código se utilizarn para verificar cómo están distribuidos los datos núlos\n",
    "\n",
    "# grouped = data.groupby(by=data.index.month)\n",
    "# nan = data[pd.isna(data['Power'])]\n",
    "# nan = nan.fillna(1)\n",
    "# nan_values = nan.groupby(by=[nan.index.month,nan.index.day,nan.index.year]).count()\n",
    "\n",
    "data[pd.isna(data['Power'])].size"
   ]
  },
  {
   "attachments": {},
   "cell_type": "markdown",
   "metadata": {},
   "source": [
    "Existen 25979 datos nulos, los cuales se van a reemplazar por el valor de la media."
   ]
  },
  {
   "cell_type": "code",
   "execution_count": 178,
   "metadata": {},
   "outputs": [],
   "source": [
    "#data.fillna(data['Power'].mean(), inplace=True)\n",
    "train.fillna(train['Power'].mean(), inplace=True)\n",
    "test.fillna(test['Power'].mean(), inplace=True)"
   ]
  },
  {
   "cell_type": "code",
   "execution_count": 127,
   "metadata": {},
   "outputs": [
    {
     "data": {
      "text/plain": [
       "0"
      ]
     },
     "execution_count": 127,
     "metadata": {},
     "output_type": "execute_result"
    }
   ],
   "source": [
    "# Se verifica que no queden valores nulos\n",
    "data[pd.isna(data['Power'])].size"
   ]
  },
  {
   "cell_type": "code",
   "execution_count": 128,
   "metadata": {},
   "outputs": [
    {
     "data": {
      "text/plain": [
       "[<matplotlib.lines.Line2D at 0x7f4ca4062230>]"
      ]
     },
     "execution_count": 128,
     "metadata": {},
     "output_type": "execute_result"
    },
    {
     "data": {
      "image/png": "[encoded data removed]",
      "text/plain": [
       "<Figure size 1600x600 with 1 Axes>"
      ]
     },
     "metadata": {},
     "output_type": "display_data"
    }
   ],
   "source": [
    "plt.figure(figsize=(16,6))\n",
    "plt.plot(data)"
   ]
  },
  {
   "attachments": {},
   "cell_type": "markdown",
   "metadata": {},
   "source": [
    "Considerando que el problema consiste en predecir las siguientes 24 horas de consumo, dadas las 24 horas previas, hace sentido hacer un re-muestreo del dataset. "
   ]
  },
  {
   "cell_type": "code",
   "execution_count": 179,
   "metadata": {},
   "outputs": [],
   "source": [
    "#data_hour = data.resample('H').mean()\n",
    "train_hour = train.resample('H').mean()\n",
    "test_hour = test.resample('H').mean()"
   ]
  },
  {
   "cell_type": "code",
   "execution_count": 130,
   "metadata": {},
   "outputs": [
    {
     "data": {
      "text/plain": [
       "<Axes: xlabel='Datetime'>"
      ]
     },
     "execution_count": 130,
     "metadata": {},
     "output_type": "execute_result"
    },
    {
     "data": {
      "image/png": "[encoded data removed]",
      "text/plain": [
       "<Figure size 1600x600 with 1 Axes>"
      ]
     },
     "metadata": {},
     "output_type": "display_data"
    }
   ],
   "source": [
    "plt.figure(figsize=(16,6))\n",
    "sns.lineplot(data_hour)"
   ]
  },
  {
   "cell_type": "code",
   "execution_count": 131,
   "metadata": {},
   "outputs": [
    {
     "data": {
      "text/html": [
       "<div>\n",
       "<style scoped>\n",
       "    .dataframe tbody tr th:only-of-type {\n",
       "        vertical-align: middle;\n",
       "    }\n",
       "\n",
       "    .dataframe tbody tr th {\n",
       "        vertical-align: top;\n",
       "    }\n",
       "\n",
       "    .dataframe thead th {\n",
       "        text-align: right;\n",
       "    }\n",
       "</style>\n",
       "<table border=\"1\" class=\"dataframe\">\n",
       "  <thead>\n",
       "    <tr style=\"text-align: right;\">\n",
       "      <th></th>\n",
       "      <th>Power</th>\n",
       "    </tr>\n",
       "    <tr>\n",
       "      <th>Datetime</th>\n",
       "      <th></th>\n",
       "    </tr>\n",
       "  </thead>\n",
       "  <tbody>\n",
       "    <tr>\n",
       "      <th>2006-12-16 17:00:00</th>\n",
       "      <td>4.222889</td>\n",
       "    </tr>\n",
       "    <tr>\n",
       "      <th>2006-12-16 18:00:00</th>\n",
       "      <td>3.632200</td>\n",
       "    </tr>\n",
       "    <tr>\n",
       "      <th>2006-12-16 19:00:00</th>\n",
       "      <td>3.400233</td>\n",
       "    </tr>\n",
       "    <tr>\n",
       "      <th>2006-12-16 20:00:00</th>\n",
       "      <td>3.268567</td>\n",
       "    </tr>\n",
       "    <tr>\n",
       "      <th>2006-12-16 21:00:00</th>\n",
       "      <td>3.056467</td>\n",
       "    </tr>\n",
       "  </tbody>\n",
       "</table>\n",
       "</div>"
      ],
      "text/plain": [
       "                        Power\n",
       "Datetime                     \n",
       "2006-12-16 17:00:00  4.222889\n",
       "2006-12-16 18:00:00  3.632200\n",
       "2006-12-16 19:00:00  3.400233\n",
       "2006-12-16 20:00:00  3.268567\n",
       "2006-12-16 21:00:00  3.056467"
      ]
     },
     "execution_count": 131,
     "metadata": {},
     "output_type": "execute_result"
    }
   ],
   "source": [
    "data_hour.head()"
   ]
  },
  {
   "cell_type": "code",
   "execution_count": 217,
   "metadata": {},
   "outputs": [
    {
     "name": "stdout",
     "output_type": "stream",
     "text": [
      "[[0.37479631]\n",
      " [0.47836321]\n",
      " [0.47963064]\n",
      " ...\n",
      " [0.0780373 ]\n",
      " [0.07767518]\n",
      " [0.07749412]]\n",
      "[[4.216]\n",
      " [5.36 ]\n",
      " [5.374]\n",
      " ...\n",
      " [0.938]\n",
      " [0.934]\n",
      " [0.932]]\n"
     ]
    }
   ],
   "source": [
    "index = 0 \n",
    "seq_length = 1440\n",
    "\n",
    "scaler = MinMaxScaler()\n",
    "scaler.fit(data[['Power']].values)\n",
    "\n",
    "print(scaler.transform(data[['Power']].values))\n",
    "\n",
    "print(scaler.inverse_transform(scaler.transform(data[['Power']].values)))"
   ]
  },
  {
   "cell_type": "code",
   "execution_count": 133,
   "metadata": {},
   "outputs": [],
   "source": [
    "#input_seq = torch.tensor(scaler.transform(data.iloc[index:index+seq_length]['Power'].values.reshape(-1,1)))\n",
    "#input_seq = torch.tensor(scaler.transform(input_seq))"
   ]
  },
  {
   "cell_type": "code",
   "execution_count": 134,
   "metadata": {},
   "outputs": [],
   "source": [
    "del input_seq"
   ]
  },
  {
   "cell_type": "code",
   "execution_count": 135,
   "metadata": {},
   "outputs": [
    {
     "data": {
      "text/plain": [
       "(34589, 1)"
      ]
     },
     "execution_count": 135,
     "metadata": {},
     "output_type": "execute_result"
    }
   ],
   "source": [
    "data_hour.values.shape"
   ]
  },
  {
   "cell_type": "code",
   "execution_count": 228,
   "metadata": {},
   "outputs": [],
   "source": [
    "\n",
    "class PowerData(Dataset): \n",
    "    def __init__(self, data_df, seq_length):\n",
    "        self.data = data_df\n",
    "        self.seq_length = seq_length\n",
    "        self.scaler = MinMaxScaler()\n",
    "        self.scaler.fit(self.data[['Power']].values)\n",
    "\n",
    "    def __getitem__(self, index):\n",
    "        \n",
    "        input_seq = torch.tensor(scaler.transform(self.data.iloc[index:index+self.seq_length]['Power'].values.reshape(-1,1))).flatten()\n",
    "        target = torch.tensor(scaler.transform(self.data.iloc[index+self.seq_length:index+(self.seq_length*2)]['Power'].values.reshape(-1,1))).flatten()\n",
    "        \n",
    "        return input_seq, target \n",
    "    def __len__(self): \n",
    "        return(len(self.data) - self.seq_length*2)\n",
    "    \n",
    "        "
   ]
  },
  {
   "cell_type": "code",
   "execution_count": 181,
   "metadata": {},
   "outputs": [],
   "source": [
    "class BaselineModel(nn.Module):\n",
    "    def __init__(self, input_size, hidden_size, output_size, n_layers):\n",
    "        super(BaselineModel, self).__init__()\n",
    "        self.lstm = nn.LSTM(input_size, hidden_size, n_layers, batch_first=True)\n",
    "        self.linear = nn.Linear(hidden_size, output_size)\n",
    "    def forward(self, x):\n",
    "        #print(x.shape)\n",
    "        x, h = self.lstm(x)\n",
    "        #print(x.shape)\n",
    "        x = self.linear(x)\n",
    "\n",
    "        return x"
   ]
  },
  {
   "cell_type": "code",
   "execution_count": 182,
   "metadata": {},
   "outputs": [],
   "source": [
    "def train(model, device, train_loader, optimizer, criterion, epoch):\n",
    "    p_bar = tqdm(train_loader)\n",
    "    model.train()\n",
    "\n",
    "    for batch_idx, (data, target) in enumerate(p_bar):\n",
    "\n",
    "        data, target = data.to(device), target.to(device)\n",
    "        optimizer.zero_grad()\n",
    "        output = model(data)\n",
    "        loss = criterion(output, target)\n",
    "        loss.backward()\n",
    "        optimizer.step()\n",
    "\n",
    "        p_bar.set_postfix(loss= loss.item())"
   ]
  },
  {
   "cell_type": "code",
   "execution_count": 234,
   "metadata": {},
   "outputs": [],
   "source": [
    "def performance(model, device, val_loader, test_data):\n",
    "    model.eval()\n",
    "    #preds = np.array([0])\n",
    "    #targets = np.array()\n",
    "    with torch.no_grad():\n",
    "        for x, y in val_loader:\n",
    "            x, y = x.to(device), y.to(device)\n",
    "            y = model(x)\n",
    "\n",
    "            preds = np.concatenate(y.cpu().detach().numpy())\n",
    "            targets = np.concatenate(x.cpu().detach().numpy())\n",
    "\n",
    "    \n",
    " \n",
    "    smape = (100/len(targets))*np.sum((np.abs(preds-targets))/((np.abs(targets-preds))/2))\n",
    "    print(' Simetric mean absolite percentage error: ', smape)\n",
    "    return preds, targets"
   ]
  },
  {
   "cell_type": "code",
   "execution_count": 235,
   "metadata": {},
   "outputs": [
    {
     "name": "stdout",
     "output_type": "stream",
     "text": [
      "Training on cuda\n"
     ]
    },
    {
     "data": {
      "application/vnd.jupyter.widget-view+json": {
       "model_id": "58c1bb04b3aa4f5cad605c6f06dd329c",
       "version_major": 2,
       "version_minor": 0
      },
      "text/plain": [
       "  0%|          | 0/832 [00:00<?, ?it/s]"
      ]
     },
     "metadata": {},
     "output_type": "display_data"
    },
    {
     "data": {
      "application/vnd.jupyter.widget-view+json": {
       "model_id": "6d8db7b0ea544ecaaa870cdec4c8f578",
       "version_major": 2,
       "version_minor": 0
      },
      "text/plain": [
       "  0%|          | 0/832 [00:00<?, ?it/s]"
      ]
     },
     "metadata": {},
     "output_type": "display_data"
    },
    {
     "data": {
      "application/vnd.jupyter.widget-view+json": {
       "model_id": "617fb85addd149e7980e9f568a52e1e6",
       "version_major": 2,
       "version_minor": 0
      },
      "text/plain": [
       "  0%|          | 0/832 [00:00<?, ?it/s]"
      ]
     },
     "metadata": {},
     "output_type": "display_data"
    },
    {
     "data": {
      "application/vnd.jupyter.widget-view+json": {
       "model_id": "ea563fae7d9d468882903f7441967357",
       "version_major": 2,
       "version_minor": 0
      },
      "text/plain": [
       "  0%|          | 0/832 [00:00<?, ?it/s]"
      ]
     },
     "metadata": {},
     "output_type": "display_data"
    }
   ],
   "source": [
    "# Hyperparámetros\n",
    "batch_size = 32\n",
    "epochs = 50\n",
    "lr  = 0.001\n",
    "input_size =24\n",
    "output_size = 24\n",
    "hidden_size = 64\n",
    "\n",
    "device = torch.device('cuda' if torch.cuda.is_available() else 'cpu')\n",
    "print(f'Training on {device}')\n",
    "\n",
    "train_data = PowerData(train_hour, input_size)\n",
    "test_data = PowerData(test_hour, input_size)\n",
    "\n",
    "train_loader = DataLoader(train_data, batch_size=batch_size)\n",
    "test_loader = DataLoader(test_data, batch_size=batch_size)\n",
    "\n",
    "model = BaselineModel(input_size, hidden_size, output_size, 1).to(device)\n",
    "model.double()\n",
    "optimizer = optim.Adam(model.parameters(), lr=lr)\n",
    "criterion = nn.MSELoss()\n",
    "\n",
    "for epoch in range(1, epochs+1):\n",
    "    train(model, device, train_loader, optimizer, criterion, epoch)\n",
    "\n",
    "preds, truth = performance(model, device, test_loader, test_data)\n",
    "mean_squared_error(truth, preds)"
   ]
  },
  {
   "cell_type": "code",
   "execution_count": 233,
   "metadata": {},
   "outputs": [
    {
     "name": "stdout",
     "output_type": "stream",
     "text": [
      "[[0.6709382 ]\n",
      " [0.73716982]\n",
      " [0.74660243]\n",
      " [0.70062276]\n",
      " [0.60120676]\n",
      " [0.69486998]\n",
      " [0.61962562]\n",
      " [0.50160641]\n",
      " [0.44476361]\n",
      " [0.6156159 ]]\n",
      "[0.03922385 0.08172491 0.15970487 0.19420907 0.23181846 0.12223731\n",
      " 0.06851349 0.04741083 0.0255628  0.01713743]\n",
      " Simetric mean absolite percentage error:  200.0\n"
     ]
    },
    {
     "data": {
      "text/plain": [
       "0.002458320429534854"
      ]
     },
     "execution_count": 233,
     "metadata": {},
     "output_type": "execute_result"
    }
   ],
   "source": [
    "test_data = PowerData(test_hour, input_size)\n",
    "\n"
   ]
  },
  {
   "cell_type": "code",
   "execution_count": 87,
   "metadata": {},
   "outputs": [
    {
     "name": "stdout",
     "output_type": "stream",
     "text": [
      "torch.Size([24, 1]) torch.Size([24, 1])\n"
     ]
    }
   ],
   "source": [
    "#Testing size\n",
    "dataset = PowerData(data_hour, 24)\n",
    "input, target = dataset[dataset.__len__()]\n",
    "print(input.shape, target.shape)"
   ]
  },
  {
   "cell_type": "code",
   "execution_count": null,
   "metadata": {},
   "outputs": [],
   "source": [
    "model."
   ]
  },
  {
   "cell_type": "code",
   "execution_count": null,
   "metadata": {},
   "outputs": [],
   "source": []
  }
 ],
 "metadata": {
  "kernelspec": {
   "display_name": "DL",
   "language": "python",
   "name": "python3"
  },
  "language_info": {
   "codemirror_mode": {
    "name": "ipython",
    "version": 3
   },
   "file_extension": ".py",
   "mimetype": "text/x-python",
   "name": "python",
   "nbconvert_exporter": "python",
   "pygments_lexer": "ipython3",
   "version": "3.10.11"
  },
  "orig_nbformat": 4
 },
 "nbformat": 4,
 "nbformat_minor": 2
}
